{
  "cells": [
    {
      "cell_type": "code",
      "execution_count": 2,
      "metadata": {},
      "outputs": [],
      "source": [
        "summery_path = 'C:/EDITH_IRWA/BBC News Summary/BBC News Summary/Summaries'\n",
        "paragraph_path = 'C:/EDITH_IRWA/BBC News Summary/BBC News Summary/News Articles'"
      ]
    },
    {
      "cell_type": "code",
      "execution_count": 3,
      "metadata": {},
      "outputs": [],
      "source": [
        "import os \n",
        "import pandas as pd\n",
        "datalist = []\n",
        "i = 0\n"
      ]
    },
    {
      "cell_type": "code",
      "execution_count": 4,
      "metadata": {},
      "outputs": [
        {
          "ename": "NotADirectoryError",
          "evalue": "[WinError 267] The directory name is invalid: 'C:/EDITH_IRWA/BBC News Summary/BBC News Summary/Summaries\\\\._business'",
          "output_type": "error",
          "traceback": [
            "\u001b[1;31m---------------------------------------------------------------------------\u001b[0m",
            "\u001b[1;31mNotADirectoryError\u001b[0m                        Traceback (most recent call last)",
            "Cell \u001b[1;32mIn[4], line 5\u001b[0m\n\u001b[0;32m      2\u001b[0m summery_foldernames_one \u001b[38;5;241m=\u001b[39m os\u001b[38;5;241m.\u001b[39mpath\u001b[38;5;241m.\u001b[39mjoin(summery_path,folder)\n\u001b[0;32m      3\u001b[0m paragraph_foldernames_one \u001b[38;5;241m=\u001b[39m os\u001b[38;5;241m.\u001b[39mpath\u001b[38;5;241m.\u001b[39mjoin(paragraph_path,folder)\n\u001b[1;32m----> 5\u001b[0m summery_file_list \u001b[38;5;241m=\u001b[39m  \u001b[43mos\u001b[49m\u001b[38;5;241;43m.\u001b[39;49m\u001b[43mlistdir\u001b[49m\u001b[43m(\u001b[49m\u001b[43msummery_foldernames_one\u001b[49m\u001b[43m)\u001b[49m\n\u001b[0;32m      6\u001b[0m paragraph_file_list \u001b[38;5;241m=\u001b[39m os\u001b[38;5;241m.\u001b[39mlistdir(paragraph_foldernames_one)\n\u001b[0;32m      8\u001b[0m \u001b[38;5;28;01mfor\u001b[39;00m selected_file \u001b[38;5;129;01min\u001b[39;00m paragraph_file_list:\n",
            "\u001b[1;31mNotADirectoryError\u001b[0m: [WinError 267] The directory name is invalid: 'C:/EDITH_IRWA/BBC News Summary/BBC News Summary/Summaries\\\\._business'"
          ]
        }
      ],
      "source": [
        "for folder in os.listdir(summery_path):\n",
        "    summery_foldernames_one = os.path.join(summery_path,folder)\n",
        "    paragraph_foldernames_one = os.path.join(paragraph_path,folder)\n",
        "   \n",
        "    summery_file_list =  os.listdir(summery_foldernames_one)\n",
        "    paragraph_file_list = os.listdir(paragraph_foldernames_one)\n",
        "        \n",
        "    for selected_file in paragraph_file_list:\n",
        "            selected_summery_file = os.path.join(summery_foldernames_one,selected_file)\n",
        "            selected_paragraph_file = os.path.join(paragraph_foldernames_one,selected_file)\n",
        "\n",
        "            \n",
        "            with open(selected_summery_file,'r',encoding='utf-8', errors='ignore') as summery_read:\n",
        "                with open(selected_paragraph_file,'r',encoding='utf-8', errors='ignore') as paragraph_read:\n",
        "                    datalist.append([folder,paragraph_read.read(),summery_read.read()])\n",
        "\n",
        "\n",
        "\n",
        "\n",
        "data_set = pd.DataFrame(datalist, columns=['category', 'paragraph', 'summary'])"
      ]
    },
    {
      "cell_type": "code",
      "execution_count": 105,
      "metadata": {},
      "outputs": [
        {
          "data": {
            "text/html": [
              "<div>\n",
              "<style scoped>\n",
              "    .dataframe tbody tr th:only-of-type {\n",
              "        vertical-align: middle;\n",
              "    }\n",
              "\n",
              "    .dataframe tbody tr th {\n",
              "        vertical-align: top;\n",
              "    }\n",
              "\n",
              "    .dataframe thead th {\n",
              "        text-align: right;\n",
              "    }\n",
              "</style>\n",
              "<table border=\"1\" class=\"dataframe\">\n",
              "  <thead>\n",
              "    <tr style=\"text-align: right;\">\n",
              "      <th></th>\n",
              "      <th>category</th>\n",
              "      <th>paragraph</th>\n",
              "      <th>summary</th>\n",
              "    </tr>\n",
              "  </thead>\n",
              "  <tbody>\n",
              "    <tr>\n",
              "      <th>0</th>\n",
              "      <td>entertainment</td>\n",
              "      <td>Musicians to tackle US red tape\\n\\nMusicians' ...</td>\n",
              "      <td>Nigel McCune from the Musicians' Union said Br...</td>\n",
              "    </tr>\n",
              "    <tr>\n",
              "      <th>1</th>\n",
              "      <td>entertainment</td>\n",
              "      <td>U2's desire to be number one\\n\\nU2, who have w...</td>\n",
              "      <td>But they still want more.They have to want to ...</td>\n",
              "    </tr>\n",
              "    <tr>\n",
              "      <th>2</th>\n",
              "      <td>entertainment</td>\n",
              "      <td>Rocker Doherty in on-stage fight\\n\\nRock singe...</td>\n",
              "      <td>Babyshambles, which he formed after his acrimo...</td>\n",
              "    </tr>\n",
              "    <tr>\n",
              "      <th>3</th>\n",
              "      <td>entertainment</td>\n",
              "      <td>Snicket tops US box office chart\\n\\nThe film a...</td>\n",
              "      <td>A Series of Unfortunate Events also stars Scot...</td>\n",
              "    </tr>\n",
              "    <tr>\n",
              "      <th>4</th>\n",
              "      <td>entertainment</td>\n",
              "      <td>Ocean's Twelve raids box office\\n\\nOcean's Twe...</td>\n",
              "      <td>Ocean's Twelve, the crime caper sequel starrin...</td>\n",
              "    </tr>\n",
              "  </tbody>\n",
              "</table>\n",
              "</div>"
            ],
            "text/plain": [
              "        category                                          paragraph  \\\n",
              "0  entertainment  Musicians to tackle US red tape\\n\\nMusicians' ...   \n",
              "1  entertainment  U2's desire to be number one\\n\\nU2, who have w...   \n",
              "2  entertainment  Rocker Doherty in on-stage fight\\n\\nRock singe...   \n",
              "3  entertainment  Snicket tops US box office chart\\n\\nThe film a...   \n",
              "4  entertainment  Ocean's Twelve raids box office\\n\\nOcean's Twe...   \n",
              "\n",
              "                                             summary  \n",
              "0  Nigel McCune from the Musicians' Union said Br...  \n",
              "1  But they still want more.They have to want to ...  \n",
              "2  Babyshambles, which he formed after his acrimo...  \n",
              "3  A Series of Unfortunate Events also stars Scot...  \n",
              "4  Ocean's Twelve, the crime caper sequel starrin...  "
            ]
          },
          "execution_count": 105,
          "metadata": {},
          "output_type": "execute_result"
        }
      ],
      "source": [
        "\n",
        "data_set.head()\n"
      ]
    },
    {
      "cell_type": "code",
      "execution_count": 106,
      "metadata": {},
      "outputs": [],
      "source": [
        "output_file_path = 'C:/EDITH_IRWA/dataset.csv'\n",
        "data_set.to_csv(output_file_path, index=False, encoding='utf-8')"
      ]
    },
    {
      "cell_type": "code",
      "execution_count": 107,
      "metadata": {},
      "outputs": [
        {
          "data": {
            "text/plain": [
              "category     0\n",
              "paragraph    0\n",
              "summary      0\n",
              "dtype: int64"
            ]
          },
          "execution_count": 107,
          "metadata": {},
          "output_type": "execute_result"
        }
      ],
      "source": [
        "data_set.isnull().sum()"
      ]
    },
    {
      "cell_type": "code",
      "execution_count": 117,
      "metadata": {},
      "outputs": [
        {
          "data": {
            "image/png": "[encoded data removed]",
            "text/plain": [
              "<Figure size 1000x600 with 1 Axes>"
            ]
          },
          "metadata": {},
          "output_type": "display_data"
        }
      ],
      "source": [
        "import pandas as pd\n",
        "import matplotlib.pyplot as plt\n",
        "\n",
        "df = pd.read_csv('dataset.csv')\n",
        "\n",
        "category_counts = df['category'].value_counts()\n",
        "\n",
        "bright_colors = ['#FF5733', '#33FF57', '#3357FF', '#FF33A1', '#33FFF5'] \n",
        "\n",
        "plt.figure(figsize=(10, 6))\n",
        "bars = plt.bar(category_counts.index, category_counts.values, color=bright_colors)\n",
        "\n",
        "plt.title('Number of Data Points per Category')\n",
        "plt.xlabel('Category')\n",
        "plt.ylabel('Number of Data Points')\n",
        "plt.xticks(rotation=45)\n",
        "plt.grid(axis='y', linestyle='--', alpha=0.7)\n",
        "\n",
        "for bar, count in zip(bars, category_counts.values):\n",
        "    plt.text(bar.get_x() + bar.get_width() / 2 - 0.1, bar.get_height(), count, ha='center', va='bottom')\n",
        "\n",
        "plt.show()\n"
      ]
    },
    {
      "cell_type": "code",
      "execution_count": 118,
      "metadata": {},
      "outputs": [
        {
          "data": {
            "image/png": "[encoded data removed]",
            "text/plain": [
              "<Figure size 800x800 with 1 Axes>"
            ]
          },
          "metadata": {},
          "output_type": "display_data"
        }
      ],
      "source": [
        "import pandas as pd\n",
        "import matplotlib.pyplot as plt\n",
        "\n",
        "# Load the dataset into a DataFrame\n",
        "df = pd.read_csv('dataset.csv')\n",
        "\n",
        "# Group by 'category' and count the number of entries\n",
        "category_counts = df['category'].value_counts()\n",
        "\n",
        "# Define a list of bright colors\n",
        "bright_colors = ['#FF5733', '#33FF57', '#3357FF', '#FF33A1', '#33FFF5']  # Adjust as needed\n",
        "\n",
        "# Plotting the pie chart\n",
        "plt.figure(figsize=(8, 8))\n",
        "plt.pie(category_counts, labels=category_counts.index, colors=bright_colors, autopct='%1.1f%%', startangle=140)\n",
        "plt.title('Distribution of Data Points by Category')\n",
        "plt.axis('equal')  # Equal aspect ratio ensures that pie chart is a circle.\n",
        "\n",
        "# Show the pie chart\n",
        "plt.show()\n"
      ]
    },
    {
      "cell_type": "code",
      "execution_count": 125,
      "metadata": {},
      "outputs": [
        {
          "data": {
            "image/png": "[encoded data removed]",
            "text/plain": [
              "<Figure size 1400x600 with 2 Axes>"
            ]
          },
          "metadata": {},
          "output_type": "display_data"
        }
      ],
      "source": [
        "import pandas as pd\n",
        "import matplotlib.pyplot as plt\n",
        "\n",
        "\n",
        "df = pd.read_csv('dataset.csv')\n",
        "\n",
        "df['paragraph_length'] = df['paragraph'].apply(len) \n",
        "df['summary_length'] = df['summary'].apply(len)      \n",
        "\n",
        "fig, ax = plt.subplots(1, 2, figsize=(14, 6))\n",
        "\n",
        "\n",
        "ax[0].boxplot(df['paragraph_length'], vert=False, patch_artist=True, \n",
        "               boxprops=dict(facecolor='#FF5733'), widths=0.5)  \n",
        "ax[0].set_title('Box Plot of Paragraph Lengths')\n",
        "ax[0].set_xlabel('Length of Paragraph (characters)')\n",
        "ax[0].grid(axis='x')\n",
        "\n",
        "\n",
        "ax[1].boxplot(df['summary_length'], vert=False, patch_artist=True, \n",
        "               boxprops=dict(facecolor='#33FF57'), widths=0.5)  \n",
        "ax[1].set_title('Box Plot of Summary Lengths')\n",
        "ax[1].set_xlabel('Length of Summary (characters)')\n",
        "ax[1].grid(axis='x')\n",
        "\n",
        "plt.tight_layout()\n",
        "plt.show()\n"
      ]
    },
    {
      "cell_type": "code",
      "execution_count": 114,
      "metadata": {},
      "outputs": [
        {
          "name": "stdout",
          "output_type": "stream",
          "text": [
            "Requirement already satisfied: pandas in ./.venv/lib/python3.12/site-packages (2.2.3)\n",
            "Collecting matplotlib\n",
            "  Using cached matplotlib-3.9.2-cp312-cp312-macosx_11_0_arm64.whl.metadata (11 kB)\n",
            "Requirement already satisfied: numpy>=1.26.0 in ./.venv/lib/python3.12/site-packages (from pandas) (1.26.4)\n",
            "Requirement already satisfied: python-dateutil>=2.8.2 in ./.venv/lib/python3.12/site-packages (from pandas) (2.9.0.post0)\n",
            "Requirement already satisfied: pytz>=2020.1 in ./.venv/lib/python3.12/site-packages (from pandas) (2024.2)\n",
            "Requirement already satisfied: tzdata>=2022.7 in ./.venv/lib/python3.12/site-packages (from pandas) (2024.2)\n",
            "Collecting contourpy>=1.0.1 (from matplotlib)\n",
            "  Using cached contourpy-1.3.0-cp312-cp312-macosx_11_0_arm64.whl.metadata (5.4 kB)\n",
            "Collecting cycler>=0.10 (from matplotlib)\n",
            "  Using cached cycler-0.12.1-py3-none-any.whl.metadata (3.8 kB)\n",
            "Collecting fonttools>=4.22.0 (from matplotlib)\n",
            "  Using cached fonttools-4.54.1-cp312-cp312-macosx_11_0_arm64.whl.metadata (163 kB)\n",
            "Collecting kiwisolver>=1.3.1 (from matplotlib)\n",
            "  Using cached kiwisolver-1.4.7-cp312-cp312-macosx_11_0_arm64.whl.metadata (6.3 kB)\n",
            "Requirement already satisfied: packaging>=20.0 in ./.venv/lib/python3.12/site-packages (from matplotlib) (24.1)\n",
            "Collecting pillow>=8 (from matplotlib)\n",
            "  Using cached pillow-10.4.0-cp312-cp312-macosx_11_0_arm64.whl.metadata (9.2 kB)\n",
            "Collecting pyparsing>=2.3.1 (from matplotlib)\n",
            "  Using cached pyparsing-3.1.4-py3-none-any.whl.metadata (5.1 kB)\n",
            "Requirement already satisfied: six>=1.5 in ./.venv/lib/python3.12/site-packages (from python-dateutil>=2.8.2->pandas) (1.16.0)\n",
            "Using cached matplotlib-3.9.2-cp312-cp312-macosx_11_0_arm64.whl (7.8 MB)\n",
            "Using cached contourpy-1.3.0-cp312-cp312-macosx_11_0_arm64.whl (251 kB)\n",
            "Using cached cycler-0.12.1-py3-none-any.whl (8.3 kB)\n",
            "Using cached fonttools-4.54.1-cp312-cp312-macosx_11_0_arm64.whl (2.3 MB)\n",
            "Using cached kiwisolver-1.4.7-cp312-cp312-macosx_11_0_arm64.whl (63 kB)\n",
            "Using cached pillow-10.4.0-cp312-cp312-macosx_11_0_arm64.whl (3.4 MB)\n",
            "Using cached pyparsing-3.1.4-py3-none-any.whl (104 kB)\n",
            "Installing collected packages: pyparsing, pillow, kiwisolver, fonttools, cycler, contourpy, matplotlib\n",
            "Successfully installed contourpy-1.3.0 cycler-0.12.1 fonttools-4.54.1 kiwisolver-1.4.7 matplotlib-3.9.2 pillow-10.4.0 pyparsing-3.1.4\n",
            "Note: you may need to restart the kernel to use updated packages.\n"
          ]
        }
      ],
      "source": [
        "pip install pandas matplotlib\n"
      ]
    },
    {
      "cell_type": "code",
      "execution_count": 119,
      "metadata": {},
      "outputs": [
        {
          "data": {
            "text/plain": [
              "98"
            ]
          },
          "execution_count": 119,
          "metadata": {},
          "output_type": "execute_result"
        }
      ],
      "source": [
        "data_set.duplicated().sum()"
      ]
    },
    {
      "cell_type": "code",
      "execution_count": 120,
      "metadata": {},
      "outputs": [],
      "source": [
        "df_no_duplicates = data_set.drop_duplicates()"
      ]
    },
    {
      "cell_type": "code",
      "execution_count": 121,
      "metadata": {},
      "outputs": [
        {
          "data": {
            "text/plain": [
              "(2225, 3)"
            ]
          },
          "execution_count": 121,
          "metadata": {},
          "output_type": "execute_result"
        }
      ],
      "source": [
        "data_set.shape  "
      ]
    },
    {
      "cell_type": "code",
      "execution_count": 122,
      "metadata": {},
      "outputs": [
        {
          "name": "stdout",
          "output_type": "stream",
          "text": [
            "<class 'pandas.core.frame.DataFrame'>\n",
            "RangeIndex: 2225 entries, 0 to 2224\n",
            "Data columns (total 3 columns):\n",
            " #   Column     Non-Null Count  Dtype \n",
            "---  ------     --------------  ----- \n",
            " 0   category   2225 non-null   object\n",
            " 1   paragraph  2225 non-null   object\n",
            " 2   summary    2225 non-null   object\n",
            "dtypes: object(3)\n",
            "memory usage: 52.3+ KB\n"
          ]
        }
      ],
      "source": [
        "data_set.info()"
      ]
    },
    {
      "cell_type": "code",
      "execution_count": 1,
      "metadata": {
        "colab": {
          "base_uri": "https://localhost:8080/"
        },
        "id": "D7bcpCp5KOJg",
        "outputId": "a57b62ef-d1c1-44c6-b1a6-f6ae70f7b650"
      },
      "outputs": [
        {
          "name": "stdout",
          "output_type": "stream",
          "text": [
            "Requirement already satisfied: evaluate in /usr/local/lib/python3.10/dist-packages (0.4.3)\n",
            "Requirement already satisfied: datasets in /usr/local/lib/python3.10/dist-packages (3.0.1)\n",
            "Requirement already satisfied: numpy>=1.17 in /usr/local/lib/python3.10/dist-packages (from evaluate) (1.26.4)\n",
            "Requirement already satisfied: dill in /usr/local/lib/python3.10/dist-packages (from evaluate) (0.3.8)\n",
            "Requirement already satisfied: pandas in /usr/local/lib/python3.10/dist-packages (from evaluate) (2.1.4)\n",
            "Requirement already satisfied: requests>=2.19.0 in /usr/local/lib/python3.10/dist-packages (from evaluate) (2.32.3)\n",
            "Requirement already satisfied: tqdm>=4.62.1 in /usr/local/lib/python3.10/dist-packages (from evaluate) (4.66.5)\n",
            "Requirement already satisfied: xxhash in /usr/local/lib/python3.10/dist-packages (from evaluate) (3.5.0)\n",
            "Requirement already satisfied: multiprocess in /usr/local/lib/python3.10/dist-packages (from evaluate) (0.70.16)\n",
            "Requirement already satisfied: fsspec>=2021.05.0 in /usr/local/lib/python3.10/dist-packages (from fsspec[http]>=2021.05.0->evaluate) (2024.6.1)\n",
            "Requirement already satisfied: huggingface-hub>=0.7.0 in /usr/local/lib/python3.10/dist-packages (from evaluate) (0.24.7)\n",
            "Requirement already satisfied: packaging in /usr/local/lib/python3.10/dist-packages (from evaluate) (24.1)\n",
            "Requirement already satisfied: filelock in /usr/local/lib/python3.10/dist-packages (from datasets) (3.16.1)\n",
            "Requirement already satisfied: pyarrow>=15.0.0 in /usr/local/lib/python3.10/dist-packages (from datasets) (17.0.0)\n",
            "Requirement already satisfied: aiohttp in /usr/local/lib/python3.10/dist-packages (from datasets) (3.10.5)\n",
            "Requirement already satisfied: pyyaml>=5.1 in /usr/local/lib/python3.10/dist-packages (from datasets) (6.0.2)\n",
            "Requirement already satisfied: aiohappyeyeballs>=2.3.0 in /usr/local/lib/python3.10/dist-packages (from aiohttp->datasets) (2.4.0)\n",
            "Requirement already satisfied: aiosignal>=1.1.2 in /usr/local/lib/python3.10/dist-packages (from aiohttp->datasets) (1.3.1)\n",
            "Requirement already satisfied: attrs>=17.3.0 in /usr/local/lib/python3.10/dist-packages (from aiohttp->datasets) (24.2.0)\n",
            "Requirement already satisfied: frozenlist>=1.1.1 in /usr/local/lib/python3.10/dist-packages (from aiohttp->datasets) (1.4.1)\n",
            "Requirement already satisfied: multidict<7.0,>=4.5 in /usr/local/lib/python3.10/dist-packages (from aiohttp->datasets) (6.1.0)\n",
            "Requirement already satisfied: yarl<2.0,>=1.0 in /usr/local/lib/python3.10/dist-packages (from aiohttp->datasets) (1.11.1)\n",
            "Requirement already satisfied: async-timeout<5.0,>=4.0 in /usr/local/lib/python3.10/dist-packages (from aiohttp->datasets) (4.0.3)\n",
            "Requirement already satisfied: typing-extensions>=3.7.4.3 in /usr/local/lib/python3.10/dist-packages (from huggingface-hub>=0.7.0->evaluate) (4.12.2)\n",
            "Requirement already satisfied: charset-normalizer<4,>=2 in /usr/local/lib/python3.10/dist-packages (from requests>=2.19.0->evaluate) (3.3.2)\n",
            "Requirement already satisfied: idna<4,>=2.5 in /usr/local/lib/python3.10/dist-packages (from requests>=2.19.0->evaluate) (3.10)\n",
            "Requirement already satisfied: urllib3<3,>=1.21.1 in /usr/local/lib/python3.10/dist-packages (from requests>=2.19.0->evaluate) (2.2.3)\n",
            "Requirement already satisfied: certifi>=2017.4.17 in /usr/local/lib/python3.10/dist-packages (from requests>=2.19.0->evaluate) (2024.8.30)\n",
            "Requirement already satisfied: python-dateutil>=2.8.2 in /usr/local/lib/python3.10/dist-packages (from pandas->evaluate) (2.8.2)\n",
            "Requirement already satisfied: pytz>=2020.1 in /usr/local/lib/python3.10/dist-packages (from pandas->evaluate) (2024.2)\n",
            "Requirement already satisfied: tzdata>=2022.1 in /usr/local/lib/python3.10/dist-packages (from pandas->evaluate) (2024.1)\n",
            "Requirement already satisfied: six>=1.5 in /usr/local/lib/python3.10/dist-packages (from python-dateutil>=2.8.2->pandas->evaluate) (1.16.0)\n"
          ]
        }
      ],
      "source": [
        "!pip install --upgrade evaluate datasets\n"
      ]
    },
    {
      "cell_type": "code",
      "execution_count": 2,
      "metadata": {
        "colab": {
          "base_uri": "https://localhost:8080/"
        },
        "id": "BvzgWxNoKH8h",
        "outputId": "3cb2c0f3-95c4-44f8-9c68-0fc4f8003e28"
      },
      "outputs": [
        {
          "name": "stdout",
          "output_type": "stream",
          "text": [
            "Requirement already satisfied: rouge_score in /usr/local/lib/python3.10/dist-packages (0.1.2)\n",
            "Requirement already satisfied: absl-py in /usr/local/lib/python3.10/dist-packages (from rouge_score) (1.4.0)\n",
            "Requirement already satisfied: nltk in /usr/local/lib/python3.10/dist-packages (from rouge_score) (3.8.1)\n",
            "Requirement already satisfied: numpy in /usr/local/lib/python3.10/dist-packages (from rouge_score) (1.26.4)\n",
            "Requirement already satisfied: six>=1.14.0 in /usr/local/lib/python3.10/dist-packages (from rouge_score) (1.16.0)\n",
            "Requirement already satisfied: click in /usr/local/lib/python3.10/dist-packages (from nltk->rouge_score) (8.1.7)\n",
            "Requirement already satisfied: joblib in /usr/local/lib/python3.10/dist-packages (from nltk->rouge_score) (1.4.2)\n",
            "Requirement already satisfied: regex>=2021.8.3 in /usr/local/lib/python3.10/dist-packages (from nltk->rouge_score) (2024.9.11)\n",
            "Requirement already satisfied: tqdm in /usr/local/lib/python3.10/dist-packages (from nltk->rouge_score) (4.66.5)\n"
          ]
        }
      ],
      "source": [
        "pip install rouge_score\n"
      ]
    },
    {
      "cell_type": "code",
      "execution_count": 3,
      "metadata": {
        "colab": {
          "base_uri": "https://localhost:8080/"
        },
        "id": "k5xSBxyQ43Tb",
        "outputId": "c2e6d5e1-054c-47c8-8145-e14efbc4f547"
      },
      "outputs": [
        {
          "name": "stdout",
          "output_type": "stream",
          "text": [
            "Requirement already satisfied: mittens in /usr/local/lib/python3.10/dist-packages (0.2)\n",
            "Requirement already satisfied: numpy in /usr/local/lib/python3.10/dist-packages (from mittens) (1.26.4)\n"
          ]
        }
      ],
      "source": [
        "pip install mittens\n"
      ]
    },
    {
      "cell_type": "code",
      "execution_count": 4,
      "metadata": {
        "colab": {
          "base_uri": "https://localhost:8080/"
        },
        "id": "DkhXvAVw477M",
        "outputId": "68c891f7-701e-44e6-b8d7-578cbd6cdcf9"
      },
      "outputs": [
        {
          "name": "stdout",
          "output_type": "stream",
          "text": [
            "Requirement already satisfied: Corpus in /usr/local/lib/python3.10/dist-packages (0.4.2)\n"
          ]
        }
      ],
      "source": [
        "pip install Corpus"
      ]
    },
    {
      "cell_type": "code",
      "execution_count": 5,
      "metadata": {
        "id": "zihisI1O5A-K"
      },
      "outputs": [],
      "source": [
        "import nltk\n",
        "from nltk.corpus import stopwords\n",
        "from nltk.stem import WordNetLemmatizer\n",
        "import re\n",
        "from wordcloud import WordCloud\n",
        "import matplotlib.pyplot as plt\n",
        "from gensim.models import word2vec\n",
        "from mittens import GloVe\n",
        "import logging\n",
        "import Corpus"
      ]
    },
    {
      "cell_type": "code",
      "execution_count": 6,
      "metadata": {
        "colab": {
          "base_uri": "https://localhost:8080/"
        },
        "id": "XeJ9bKUe5f25",
        "outputId": "c80d23f4-1f61-4b4b-ea19-25356349b0b8"
      },
      "outputs": [
        {
          "name": "stderr",
          "output_type": "stream",
          "text": [
            "[nltk_data] Downloading package punkt to /root/nltk_data...\n",
            "[nltk_data]   Package punkt is already up-to-date!\n",
            "[nltk_data] Downloading package stopwords to /root/nltk_data...\n",
            "[nltk_data]   Package stopwords is already up-to-date!\n",
            "[nltk_data] Downloading package wordnet to /root/nltk_data...\n",
            "[nltk_data]   Package wordnet is already up-to-date!\n"
          ]
        },
        {
          "data": {
            "text/plain": [
              "True"
            ]
          },
          "execution_count": 6,
          "metadata": {},
          "output_type": "execute_result"
        }
      ],
      "source": [
        "nltk.download('punkt')\n",
        "nltk.download('stopwords')\n",
        "nltk.download('wordnet')\n"
      ]
    },
    {
      "cell_type": "code",
      "execution_count": 102,
      "metadata": {
        "id": "mADCJLin5jQJ"
      },
      "outputs": [
        {
          "ename": "FileNotFoundError",
          "evalue": "[Errno 2] No such file or directory: 'dataset.csv'",
          "output_type": "error",
          "traceback": [
            "\u001b[0;31m---------------------------------------------------------------------------\u001b[0m",
            "\u001b[0;31mFileNotFoundError\u001b[0m                         Traceback (most recent call last)",
            "Cell \u001b[0;32mIn[102], line 4\u001b[0m\n\u001b[1;32m      1\u001b[0m \u001b[38;5;28;01mimport\u001b[39;00m \u001b[38;5;21;01mpandas\u001b[39;00m \u001b[38;5;28;01mas\u001b[39;00m \u001b[38;5;21;01mpd\u001b[39;00m\n\u001b[1;32m      3\u001b[0m \u001b[38;5;66;03m# Load the dataset\u001b[39;00m\n\u001b[0;32m----> 4\u001b[0m df \u001b[38;5;241m=\u001b[39m \u001b[43mpd\u001b[49m\u001b[38;5;241;43m.\u001b[39;49m\u001b[43mread_csv\u001b[49m\u001b[43m(\u001b[49m\u001b[38;5;124;43m'\u001b[39;49m\u001b[38;5;124;43mdataset.csv\u001b[39;49m\u001b[38;5;124;43m'\u001b[39;49m\u001b[43m)\u001b[49m\n",
            "File \u001b[0;32m~/Desktop/EDITH_IRWA/.venv/lib/python3.12/site-packages/pandas/io/parsers/readers.py:1026\u001b[0m, in \u001b[0;36mread_csv\u001b[0;34m(filepath_or_buffer, sep, delimiter, header, names, index_col, usecols, dtype, engine, converters, true_values, false_values, skipinitialspace, skiprows, skipfooter, nrows, na_values, keep_default_na, na_filter, verbose, skip_blank_lines, parse_dates, infer_datetime_format, keep_date_col, date_parser, date_format, dayfirst, cache_dates, iterator, chunksize, compression, thousands, decimal, lineterminator, quotechar, quoting, doublequote, escapechar, comment, encoding, encoding_errors, dialect, on_bad_lines, delim_whitespace, low_memory, memory_map, float_precision, storage_options, dtype_backend)\u001b[0m\n\u001b[1;32m   1013\u001b[0m kwds_defaults \u001b[38;5;241m=\u001b[39m _refine_defaults_read(\n\u001b[1;32m   1014\u001b[0m     dialect,\n\u001b[1;32m   1015\u001b[0m     delimiter,\n\u001b[0;32m   (...)\u001b[0m\n\u001b[1;32m   1022\u001b[0m     dtype_backend\u001b[38;5;241m=\u001b[39mdtype_backend,\n\u001b[1;32m   1023\u001b[0m )\n\u001b[1;32m   1024\u001b[0m kwds\u001b[38;5;241m.\u001b[39mupdate(kwds_defaults)\n\u001b[0;32m-> 1026\u001b[0m \u001b[38;5;28;01mreturn\u001b[39;00m \u001b[43m_read\u001b[49m\u001b[43m(\u001b[49m\u001b[43mfilepath_or_buffer\u001b[49m\u001b[43m,\u001b[49m\u001b[43m \u001b[49m\u001b[43mkwds\u001b[49m\u001b[43m)\u001b[49m\n",
            "File \u001b[0;32m~/Desktop/EDITH_IRWA/.venv/lib/python3.12/site-packages/pandas/io/parsers/readers.py:620\u001b[0m, in \u001b[0;36m_read\u001b[0;34m(filepath_or_buffer, kwds)\u001b[0m\n\u001b[1;32m    617\u001b[0m _validate_names(kwds\u001b[38;5;241m.\u001b[39mget(\u001b[38;5;124m\"\u001b[39m\u001b[38;5;124mnames\u001b[39m\u001b[38;5;124m\"\u001b[39m, \u001b[38;5;28;01mNone\u001b[39;00m))\n\u001b[1;32m    619\u001b[0m \u001b[38;5;66;03m# Create the parser.\u001b[39;00m\n\u001b[0;32m--> 620\u001b[0m parser \u001b[38;5;241m=\u001b[39m \u001b[43mTextFileReader\u001b[49m\u001b[43m(\u001b[49m\u001b[43mfilepath_or_buffer\u001b[49m\u001b[43m,\u001b[49m\u001b[43m \u001b[49m\u001b[38;5;241;43m*\u001b[39;49m\u001b[38;5;241;43m*\u001b[39;49m\u001b[43mkwds\u001b[49m\u001b[43m)\u001b[49m\n\u001b[1;32m    622\u001b[0m \u001b[38;5;28;01mif\u001b[39;00m chunksize \u001b[38;5;129;01mor\u001b[39;00m iterator:\n\u001b[1;32m    623\u001b[0m     \u001b[38;5;28;01mreturn\u001b[39;00m parser\n",
            "File \u001b[0;32m~/Desktop/EDITH_IRWA/.venv/lib/python3.12/site-packages/pandas/io/parsers/readers.py:1620\u001b[0m, in \u001b[0;36mTextFileReader.__init__\u001b[0;34m(self, f, engine, **kwds)\u001b[0m\n\u001b[1;32m   1617\u001b[0m     \u001b[38;5;28mself\u001b[39m\u001b[38;5;241m.\u001b[39moptions[\u001b[38;5;124m\"\u001b[39m\u001b[38;5;124mhas_index_names\u001b[39m\u001b[38;5;124m\"\u001b[39m] \u001b[38;5;241m=\u001b[39m kwds[\u001b[38;5;124m\"\u001b[39m\u001b[38;5;124mhas_index_names\u001b[39m\u001b[38;5;124m\"\u001b[39m]\n\u001b[1;32m   1619\u001b[0m \u001b[38;5;28mself\u001b[39m\u001b[38;5;241m.\u001b[39mhandles: IOHandles \u001b[38;5;241m|\u001b[39m \u001b[38;5;28;01mNone\u001b[39;00m \u001b[38;5;241m=\u001b[39m \u001b[38;5;28;01mNone\u001b[39;00m\n\u001b[0;32m-> 1620\u001b[0m \u001b[38;5;28mself\u001b[39m\u001b[38;5;241m.\u001b[39m_engine \u001b[38;5;241m=\u001b[39m \u001b[38;5;28;43mself\u001b[39;49m\u001b[38;5;241;43m.\u001b[39;49m\u001b[43m_make_engine\u001b[49m\u001b[43m(\u001b[49m\u001b[43mf\u001b[49m\u001b[43m,\u001b[49m\u001b[43m \u001b[49m\u001b[38;5;28;43mself\u001b[39;49m\u001b[38;5;241;43m.\u001b[39;49m\u001b[43mengine\u001b[49m\u001b[43m)\u001b[49m\n",
            "File \u001b[0;32m~/Desktop/EDITH_IRWA/.venv/lib/python3.12/site-packages/pandas/io/parsers/readers.py:1880\u001b[0m, in \u001b[0;36mTextFileReader._make_engine\u001b[0;34m(self, f, engine)\u001b[0m\n\u001b[1;32m   1878\u001b[0m     \u001b[38;5;28;01mif\u001b[39;00m \u001b[38;5;124m\"\u001b[39m\u001b[38;5;124mb\u001b[39m\u001b[38;5;124m\"\u001b[39m \u001b[38;5;129;01mnot\u001b[39;00m \u001b[38;5;129;01min\u001b[39;00m mode:\n\u001b[1;32m   1879\u001b[0m         mode \u001b[38;5;241m+\u001b[39m\u001b[38;5;241m=\u001b[39m \u001b[38;5;124m\"\u001b[39m\u001b[38;5;124mb\u001b[39m\u001b[38;5;124m\"\u001b[39m\n\u001b[0;32m-> 1880\u001b[0m \u001b[38;5;28mself\u001b[39m\u001b[38;5;241m.\u001b[39mhandles \u001b[38;5;241m=\u001b[39m \u001b[43mget_handle\u001b[49m\u001b[43m(\u001b[49m\n\u001b[1;32m   1881\u001b[0m \u001b[43m    \u001b[49m\u001b[43mf\u001b[49m\u001b[43m,\u001b[49m\n\u001b[1;32m   1882\u001b[0m \u001b[43m    \u001b[49m\u001b[43mmode\u001b[49m\u001b[43m,\u001b[49m\n\u001b[1;32m   1883\u001b[0m \u001b[43m    \u001b[49m\u001b[43mencoding\u001b[49m\u001b[38;5;241;43m=\u001b[39;49m\u001b[38;5;28;43mself\u001b[39;49m\u001b[38;5;241;43m.\u001b[39;49m\u001b[43moptions\u001b[49m\u001b[38;5;241;43m.\u001b[39;49m\u001b[43mget\u001b[49m\u001b[43m(\u001b[49m\u001b[38;5;124;43m\"\u001b[39;49m\u001b[38;5;124;43mencoding\u001b[39;49m\u001b[38;5;124;43m\"\u001b[39;49m\u001b[43m,\u001b[49m\u001b[43m \u001b[49m\u001b[38;5;28;43;01mNone\u001b[39;49;00m\u001b[43m)\u001b[49m\u001b[43m,\u001b[49m\n\u001b[1;32m   1884\u001b[0m \u001b[43m    \u001b[49m\u001b[43mcompression\u001b[49m\u001b[38;5;241;43m=\u001b[39;49m\u001b[38;5;28;43mself\u001b[39;49m\u001b[38;5;241;43m.\u001b[39;49m\u001b[43moptions\u001b[49m\u001b[38;5;241;43m.\u001b[39;49m\u001b[43mget\u001b[49m\u001b[43m(\u001b[49m\u001b[38;5;124;43m\"\u001b[39;49m\u001b[38;5;124;43mcompression\u001b[39;49m\u001b[38;5;124;43m\"\u001b[39;49m\u001b[43m,\u001b[49m\u001b[43m \u001b[49m\u001b[38;5;28;43;01mNone\u001b[39;49;00m\u001b[43m)\u001b[49m\u001b[43m,\u001b[49m\n\u001b[1;32m   1885\u001b[0m \u001b[43m    \u001b[49m\u001b[43mmemory_map\u001b[49m\u001b[38;5;241;43m=\u001b[39;49m\u001b[38;5;28;43mself\u001b[39;49m\u001b[38;5;241;43m.\u001b[39;49m\u001b[43moptions\u001b[49m\u001b[38;5;241;43m.\u001b[39;49m\u001b[43mget\u001b[49m\u001b[43m(\u001b[49m\u001b[38;5;124;43m\"\u001b[39;49m\u001b[38;5;124;43mmemory_map\u001b[39;49m\u001b[38;5;124;43m\"\u001b[39;49m\u001b[43m,\u001b[49m\u001b[43m \u001b[49m\u001b[38;5;28;43;01mFalse\u001b[39;49;00m\u001b[43m)\u001b[49m\u001b[43m,\u001b[49m\n\u001b[1;32m   1886\u001b[0m \u001b[43m    \u001b[49m\u001b[43mis_text\u001b[49m\u001b[38;5;241;43m=\u001b[39;49m\u001b[43mis_text\u001b[49m\u001b[43m,\u001b[49m\n\u001b[1;32m   1887\u001b[0m \u001b[43m    \u001b[49m\u001b[43merrors\u001b[49m\u001b[38;5;241;43m=\u001b[39;49m\u001b[38;5;28;43mself\u001b[39;49m\u001b[38;5;241;43m.\u001b[39;49m\u001b[43moptions\u001b[49m\u001b[38;5;241;43m.\u001b[39;49m\u001b[43mget\u001b[49m\u001b[43m(\u001b[49m\u001b[38;5;124;43m\"\u001b[39;49m\u001b[38;5;124;43mencoding_errors\u001b[39;49m\u001b[38;5;124;43m\"\u001b[39;49m\u001b[43m,\u001b[49m\u001b[43m \u001b[49m\u001b[38;5;124;43m\"\u001b[39;49m\u001b[38;5;124;43mstrict\u001b[39;49m\u001b[38;5;124;43m\"\u001b[39;49m\u001b[43m)\u001b[49m\u001b[43m,\u001b[49m\n\u001b[1;32m   1888\u001b[0m \u001b[43m    \u001b[49m\u001b[43mstorage_options\u001b[49m\u001b[38;5;241;43m=\u001b[39;49m\u001b[38;5;28;43mself\u001b[39;49m\u001b[38;5;241;43m.\u001b[39;49m\u001b[43moptions\u001b[49m\u001b[38;5;241;43m.\u001b[39;49m\u001b[43mget\u001b[49m\u001b[43m(\u001b[49m\u001b[38;5;124;43m\"\u001b[39;49m\u001b[38;5;124;43mstorage_options\u001b[39;49m\u001b[38;5;124;43m\"\u001b[39;49m\u001b[43m,\u001b[49m\u001b[43m \u001b[49m\u001b[38;5;28;43;01mNone\u001b[39;49;00m\u001b[43m)\u001b[49m\u001b[43m,\u001b[49m\n\u001b[1;32m   1889\u001b[0m \u001b[43m\u001b[49m\u001b[43m)\u001b[49m\n\u001b[1;32m   1890\u001b[0m \u001b[38;5;28;01massert\u001b[39;00m \u001b[38;5;28mself\u001b[39m\u001b[38;5;241m.\u001b[39mhandles \u001b[38;5;129;01mis\u001b[39;00m \u001b[38;5;129;01mnot\u001b[39;00m \u001b[38;5;28;01mNone\u001b[39;00m\n\u001b[1;32m   1891\u001b[0m f \u001b[38;5;241m=\u001b[39m \u001b[38;5;28mself\u001b[39m\u001b[38;5;241m.\u001b[39mhandles\u001b[38;5;241m.\u001b[39mhandle\n",
            "File \u001b[0;32m~/Desktop/EDITH_IRWA/.venv/lib/python3.12/site-packages/pandas/io/common.py:873\u001b[0m, in \u001b[0;36mget_handle\u001b[0;34m(path_or_buf, mode, encoding, compression, memory_map, is_text, errors, storage_options)\u001b[0m\n\u001b[1;32m    868\u001b[0m \u001b[38;5;28;01melif\u001b[39;00m \u001b[38;5;28misinstance\u001b[39m(handle, \u001b[38;5;28mstr\u001b[39m):\n\u001b[1;32m    869\u001b[0m     \u001b[38;5;66;03m# Check whether the filename is to be opened in binary mode.\u001b[39;00m\n\u001b[1;32m    870\u001b[0m     \u001b[38;5;66;03m# Binary mode does not support 'encoding' and 'newline'.\u001b[39;00m\n\u001b[1;32m    871\u001b[0m     \u001b[38;5;28;01mif\u001b[39;00m ioargs\u001b[38;5;241m.\u001b[39mencoding \u001b[38;5;129;01mand\u001b[39;00m \u001b[38;5;124m\"\u001b[39m\u001b[38;5;124mb\u001b[39m\u001b[38;5;124m\"\u001b[39m \u001b[38;5;129;01mnot\u001b[39;00m \u001b[38;5;129;01min\u001b[39;00m ioargs\u001b[38;5;241m.\u001b[39mmode:\n\u001b[1;32m    872\u001b[0m         \u001b[38;5;66;03m# Encoding\u001b[39;00m\n\u001b[0;32m--> 873\u001b[0m         handle \u001b[38;5;241m=\u001b[39m \u001b[38;5;28;43mopen\u001b[39;49m\u001b[43m(\u001b[49m\n\u001b[1;32m    874\u001b[0m \u001b[43m            \u001b[49m\u001b[43mhandle\u001b[49m\u001b[43m,\u001b[49m\n\u001b[1;32m    875\u001b[0m \u001b[43m            \u001b[49m\u001b[43mioargs\u001b[49m\u001b[38;5;241;43m.\u001b[39;49m\u001b[43mmode\u001b[49m\u001b[43m,\u001b[49m\n\u001b[1;32m    876\u001b[0m \u001b[43m            \u001b[49m\u001b[43mencoding\u001b[49m\u001b[38;5;241;43m=\u001b[39;49m\u001b[43mioargs\u001b[49m\u001b[38;5;241;43m.\u001b[39;49m\u001b[43mencoding\u001b[49m\u001b[43m,\u001b[49m\n\u001b[1;32m    877\u001b[0m \u001b[43m            \u001b[49m\u001b[43merrors\u001b[49m\u001b[38;5;241;43m=\u001b[39;49m\u001b[43merrors\u001b[49m\u001b[43m,\u001b[49m\n\u001b[1;32m    878\u001b[0m \u001b[43m            \u001b[49m\u001b[43mnewline\u001b[49m\u001b[38;5;241;43m=\u001b[39;49m\u001b[38;5;124;43m\"\u001b[39;49m\u001b[38;5;124;43m\"\u001b[39;49m\u001b[43m,\u001b[49m\n\u001b[1;32m    879\u001b[0m \u001b[43m        \u001b[49m\u001b[43m)\u001b[49m\n\u001b[1;32m    880\u001b[0m     \u001b[38;5;28;01melse\u001b[39;00m:\n\u001b[1;32m    881\u001b[0m         \u001b[38;5;66;03m# Binary mode\u001b[39;00m\n\u001b[1;32m    882\u001b[0m         handle \u001b[38;5;241m=\u001b[39m \u001b[38;5;28mopen\u001b[39m(handle, ioargs\u001b[38;5;241m.\u001b[39mmode)\n",
            "\u001b[0;31mFileNotFoundError\u001b[0m: [Errno 2] No such file or directory: 'dataset.csv'"
          ]
        }
      ],
      "source": [
        "import pandas as pd\n",
        "\n",
        "# Load the dataset\n",
        "df = pd.read_csv('dataset.csv')"
      ]
    },
    {
      "cell_type": "code",
      "execution_count": 8,
      "metadata": {
        "id": "88WusdlH6ZQ3"
      },
      "outputs": [],
      "source": [
        "class Preprocess():\n",
        "    def __init__(self):\n",
        "        pass\n",
        "\n",
        "    def toLower(self, x):\n",
        "        '''Converts string to lowercase'''\n",
        "        return x.lower()\n",
        "\n",
        "    def sentenceTokenize(self, x):\n",
        "        '''Tokenizes document into sentences'''\n",
        "        sent_tokenizer = nltk.data.load('tokenizers/punkt/english.pickle')\n",
        "        sentences = sent_tokenizer.tokenize(x)\n",
        "        return sentences\n",
        "\n",
        "    def preprocess_sentences(self, all_sentences):\n",
        "        '''Tokenizes sentences into words, removes punctuations, stopwords and performs lemmatization'''\n",
        "        word_tokenizer = nltk.RegexpTokenizer(r\"\\w+\")\n",
        "        sentences = []\n",
        "        special_characters = re.compile(\"[^A-Za-z0-9 ]\")\n",
        "        for s in all_sentences:\n",
        "            # remove punctuation\n",
        "            s = re.sub(special_characters, \" \", s)\n",
        "            # Word tokenize\n",
        "            words = word_tokenizer.tokenize(s)\n",
        "            # Remove Stopwords\n",
        "            words = self.removeStopwords(words)\n",
        "            # Perform lemmatization\n",
        "            words = self.wordnet_lemmatize(words)\n",
        "            sentences.append(words)\n",
        "        return sentences\n",
        "\n",
        "    def removeStopwords(self, sentence):\n",
        "        '''Removes stopwords from a sentence'''\n",
        "        stop_words = stopwords.words('english')\n",
        "        tokens = [token for token in sentence if token not in stop_words]\n",
        "        return tokens\n",
        "\n",
        "    def wordnet_lemmatize(self, sentence):\n",
        "        '''Lemmatizes tokens in a sentence'''\n",
        "        lemmatizer = WordNetLemmatizer()\n",
        "        tokens = [lemmatizer.lemmatize(token, pos='v') for token in sentence]\n",
        "        return tokens\n",
        "\n",
        "    def complete_preprocess(self, text):\n",
        "        '''Performs complete preprocessing on document'''\n",
        "        # Convert text to lowercase\n",
        "        text_lower = self.toLower(text)\n",
        "        # Sentence tokenize the document\n",
        "        sentences = self.sentenceTokenize(text_lower)\n",
        "        # Preprocess all sentences\n",
        "        preprocessed_sentences = self.preprocess_sentences(sentences)\n",
        "        return preprocessed_sentences\n"
      ]
    },
    {
      "cell_type": "markdown",
      "metadata": {
        "id": "qF_jqE0m6N-y"
      },
      "source": []
    },
    {
      "cell_type": "code",
      "execution_count": 9,
      "metadata": {
        "id": "6UVs3CS36akG"
      },
      "outputs": [],
      "source": [
        "preprocessor = Preprocess()\n",
        "\n",
        "df['cleaned_paragraph'] = df['paragraph'].apply(preprocessor.complete_preprocess)\n",
        "df['cleaned_summary'] = df['summary'].apply(preprocessor.complete_preprocess)\n"
      ]
    },
    {
      "cell_type": "code",
      "execution_count": 10,
      "metadata": {
        "id": "ZCR7vZH_6ceN"
      },
      "outputs": [],
      "source": [
        "from sklearn.model_selection import train_test_split\n",
        "\n",
        "train_data, test_data = train_test_split(df, test_size=0.2, random_state=42)\n"
      ]
    },
    {
      "cell_type": "code",
      "execution_count": 11,
      "metadata": {
        "colab": {
          "base_uri": "https://localhost:8080/"
        },
        "id": "Eh9rAEYY7E7d",
        "outputId": "e56c1278-632d-43bc-c622-f82931f4b7c3"
      },
      "outputs": [
        {
          "name": "stderr",
          "output_type": "stream",
          "text": [
            "/usr/local/lib/python3.10/dist-packages/huggingface_hub/utils/_token.py:89: UserWarning: \n",
            "The secret `HF_TOKEN` does not exist in your Colab secrets.\n",
            "To authenticate with the Hugging Face Hub, create a token in your settings tab (https://huggingface.co/settings/tokens), set it as secret in your Google Colab and restart your session.\n",
            "You will be able to reuse this secret in all of your notebooks.\n",
            "Please note that authentication is recommended but still optional to access public models or datasets.\n",
            "  warnings.warn(\n",
            "You are using the default legacy behaviour of the <class 'transformers.models.t5.tokenization_t5.T5Tokenizer'>. This is expected, and simply means that the `legacy` (previous) behavior will be used so nothing changes for you. If you want to use the new behaviour, set `legacy=False`. This should only be set if you understand what it means, and thoroughly read the reason why this was added as explained in https://github.com/huggingface/transformers/pull/24565\n",
            "/usr/local/lib/python3.10/dist-packages/transformers/tokenization_utils_base.py:1601: FutureWarning: `clean_up_tokenization_spaces` was not set. It will be set to `True` by default. This behavior will be depracted in transformers v4.45, and will be then set to `False` by default. For more details check this issue: https://github.com/huggingface/transformers/issues/31884\n",
            "  warnings.warn(\n"
          ]
        }
      ],
      "source": [
        "from transformers import T5Tokenizer, T5ForConditionalGeneration\n",
        "\n",
        "# Load T5 model and tokenizer\n",
        "model = T5ForConditionalGeneration.from_pretrained('t5-base')\n",
        "tokenizer = T5Tokenizer.from_pretrained('t5-base')\n"
      ]
    },
    {
      "cell_type": "code",
      "execution_count": 12,
      "metadata": {
        "id": "Vl1pm0MU7Gjc"
      },
      "outputs": [],
      "source": [
        "def encode_data(batch):\n",
        "    # Combine the tokenized words back into a single string for input\n",
        "    paragraph = ' '.join([' '.join(words) for words in batch['cleaned_paragraph']])\n",
        "\n",
        "    # Combine the tokenized words back into a single string for output\n",
        "    summary = ' '.join([' '.join(words) for words in batch['cleaned_summary']])\n",
        "\n",
        "    # Tokenize the preprocessed 'cleaned_paragraph' (input text)\n",
        "    inputs = tokenizer(\n",
        "        paragraph,                      # Preprocessed paragraph\n",
        "        padding='max_length',           # Pad to max length\n",
        "        truncation=True,                # Truncate if it's longer than max length\n",
        "        max_length=1200,                 # Set max token length for input\n",
        "        return_tensors=\"pt\"             # Return as PyTorch tensors\n",
        "    )\n",
        "\n",
        "    # Tokenize the preprocessed 'cleaned_summary' (target text)\n",
        "    outputs = tokenizer(\n",
        "        summary,                        # Preprocessed summary\n",
        "        padding='max_length',           # Pad to max length\n",
        "        truncation=True,                # Truncate to max length\n",
        "        max_length=350,                 # Set max token length for summary\n",
        "        return_tensors=\"pt\"             # Return as PyTorch tensors\n",
        "    )\n",
        "\n",
        "    # Return a single dictionary (to avoid unpacking errors)\n",
        "    return {\n",
        "        'input_ids': inputs['input_ids'].squeeze(),          # Input IDs (tokenized input)\n",
        "        'attention_mask': inputs['attention_mask'].squeeze(),# Attention mask for input\n",
        "        'labels': outputs['input_ids'].squeeze()             # Target/labels (tokenized summary)\n",
        "    }\n",
        "\n",
        "# Apply the encode_data function to the train and test data\n",
        "train_data_encoded = train_data.apply(encode_data, axis=1)\n",
        "test_data_encoded = test_data.apply(encode_data, axis=1)\n"
      ]
    },
    {
      "cell_type": "code",
      "execution_count": 13,
      "metadata": {
        "colab": {
          "base_uri": "https://localhost:8080/"
        },
        "id": "3i1Upw5s7Od-",
        "outputId": "c6987d73-9780-4672-b0f4-76ef7d8add0e"
      },
      "outputs": [
        {
          "name": "stdout",
          "output_type": "stream",
          "text": [
            "1490    {'input_ids': [tensor(3), tensor(4605), tensor...\n",
            "2001    {'input_ids': [tensor(3), tensor(2160), tensor...\n",
            "1572    {'input_ids': [tensor(19299), tensor(17), tens...\n",
            "1840    {'input_ids': [tensor(3303), tensor(358), tens...\n",
            "610     {'input_ids': [tensor(613), tensor(1170), tens...\n",
            "dtype: object\n",
            "414     {'input_ids': [tensor(20576), tensor(420), ten...\n",
            "420     {'input_ids': [tensor(17907), tensor(1487), te...\n",
            "1644    {'input_ids': [tensor(3), tensor(1167), tensor...\n",
            "416     {'input_ids': [tensor(873), tensor(217), tenso...\n",
            "1232    {'input_ids': [tensor(10505), tensor(647), ten...\n",
            "dtype: object\n"
          ]
        }
      ],
      "source": [
        "print(train_data_encoded.head())\n",
        "print(test_data_encoded.head())\n"
      ]
    },
    {
      "cell_type": "code",
      "execution_count": 14,
      "metadata": {
        "id": "r14unQrs7S_Q"
      },
      "outputs": [],
      "source": [
        "train_data_encoded.reset_index(drop=True, inplace=True)\n",
        "test_data_encoded.reset_index(drop=True, inplace=True)\n"
      ]
    },
    {
      "cell_type": "code",
      "execution_count": 15,
      "metadata": {
        "colab": {
          "base_uri": "https://localhost:8080/",
          "height": 1000
        },
        "id": "N0qxV9LF7VL1",
        "outputId": "e304f7af-47f2-4d15-ced6-62bac4e0eaee"
      },
      "outputs": [
        {
          "name": "stderr",
          "output_type": "stream",
          "text": [
            "/usr/local/lib/python3.10/dist-packages/accelerate/accelerator.py:494: FutureWarning: `torch.cuda.amp.GradScaler(args...)` is deprecated. Please use `torch.amp.GradScaler('cuda', args...)` instead.\n",
            "  self.scaler = torch.cuda.amp.GradScaler(**kwargs)\n",
            "Using auto half precision backend\n",
            "***** Running training *****\n",
            "  Num examples = 1,780\n",
            "  Num Epochs = 5\n",
            "  Instantaneous batch size per device = 2\n",
            "  Total train batch size (w. parallel, distributed & accumulation) = 2\n",
            "  Gradient Accumulation steps = 1\n",
            "  Total optimization steps = 4,450\n",
            "  Number of trainable parameters = 222,903,552\n"
          ]
        },
        {
          "data": {
            "text/html": [
              "\n",
              "    <div>\n",
              "      \n",
              "      <progress value='4450' max='4450' style='width:300px; height:20px; vertical-align: middle;'></progress>\n",
              "      [4450/4450 57:15, Epoch 5/5]\n",
              "    </div>\n",
              "    <table border=\"1\" class=\"dataframe\">\n",
              "  <thead>\n",
              " <tr style=\"text-align: left;\">\n",
              "      <th>Epoch</th>\n",
              "      <th>Training Loss</th>\n",
              "      <th>Validation Loss</th>\n",
              "    </tr>\n",
              "  </thead>\n",
              "  <tbody>\n",
              "    <tr>\n",
              "      <td>1</td>\n",
              "      <td>0.363500</td>\n",
              "      <td>0.283221</td>\n",
              "    </tr>\n",
              "    <tr>\n",
              "      <td>2</td>\n",
              "      <td>0.301400</td>\n",
              "      <td>0.257820</td>\n",
              "    </tr>\n",
              "    <tr>\n",
              "      <td>3</td>\n",
              "      <td>0.210700</td>\n",
              "      <td>0.247260</td>\n",
              "    </tr>\n",
              "    <tr>\n",
              "      <td>4</td>\n",
              "      <td>0.339700</td>\n",
              "      <td>0.242577</td>\n",
              "    </tr>\n",
              "    <tr>\n",
              "      <td>5</td>\n",
              "      <td>0.293800</td>\n",
              "      <td>0.240755</td>\n",
              "    </tr>\n",
              "  </tbody>\n",
              "</table><p>"
            ],
            "text/plain": [
              "<IPython.core.display.HTML object>"
            ]
          },
          "metadata": {},
          "output_type": "display_data"
        },
        {
          "name": "stderr",
          "output_type": "stream",
          "text": [
            "Saving model checkpoint to ./results/checkpoint-500\n",
            "Configuration saved in ./results/checkpoint-500/config.json\n",
            "Configuration saved in ./results/checkpoint-500/generation_config.json\n",
            "Model weights saved in ./results/checkpoint-500/model.safetensors\n",
            "\n",
            "***** Running Evaluation *****\n",
            "  Num examples = 445\n",
            "  Batch size = 2\n",
            "Saving model checkpoint to ./results/checkpoint-1000\n",
            "Configuration saved in ./results/checkpoint-1000/config.json\n",
            "Configuration saved in ./results/checkpoint-1000/generation_config.json\n",
            "Model weights saved in ./results/checkpoint-1000/model.safetensors\n",
            "Saving model checkpoint to ./results/checkpoint-1500\n",
            "Configuration saved in ./results/checkpoint-1500/config.json\n",
            "Configuration saved in ./results/checkpoint-1500/generation_config.json\n",
            "Model weights saved in ./results/checkpoint-1500/model.safetensors\n",
            "\n",
            "***** Running Evaluation *****\n",
            "  Num examples = 445\n",
            "  Batch size = 2\n",
            "Saving model checkpoint to ./results/checkpoint-2000\n",
            "Configuration saved in ./results/checkpoint-2000/config.json\n",
            "Configuration saved in ./results/checkpoint-2000/generation_config.json\n",
            "Model weights saved in ./results/checkpoint-2000/model.safetensors\n",
            "Saving model checkpoint to ./results/checkpoint-2500\n",
            "Configuration saved in ./results/checkpoint-2500/config.json\n",
            "Configuration saved in ./results/checkpoint-2500/generation_config.json\n",
            "Model weights saved in ./results/checkpoint-2500/model.safetensors\n",
            "\n",
            "***** Running Evaluation *****\n",
            "  Num examples = 445\n",
            "  Batch size = 2\n",
            "Saving model checkpoint to ./results/checkpoint-3000\n",
            "Configuration saved in ./results/checkpoint-3000/config.json\n",
            "Configuration saved in ./results/checkpoint-3000/generation_config.json\n",
            "Model weights saved in ./results/checkpoint-3000/model.safetensors\n",
            "Saving model checkpoint to ./results/checkpoint-3500\n",
            "Configuration saved in ./results/checkpoint-3500/config.json\n",
            "Configuration saved in ./results/checkpoint-3500/generation_config.json\n",
            "Model weights saved in ./results/checkpoint-3500/model.safetensors\n",
            "\n",
            "***** Running Evaluation *****\n",
            "  Num examples = 445\n",
            "  Batch size = 2\n",
            "Saving model checkpoint to ./results/checkpoint-4000\n",
            "Configuration saved in ./results/checkpoint-4000/config.json\n",
            "Configuration saved in ./results/checkpoint-4000/generation_config.json\n",
            "Model weights saved in ./results/checkpoint-4000/model.safetensors\n",
            "Saving model checkpoint to ./results/checkpoint-4450\n",
            "Configuration saved in ./results/checkpoint-4450/config.json\n",
            "Configuration saved in ./results/checkpoint-4450/generation_config.json\n",
            "Model weights saved in ./results/checkpoint-4450/model.safetensors\n",
            "\n",
            "***** Running Evaluation *****\n",
            "  Num examples = 445\n",
            "  Batch size = 2\n",
            "\n",
            "\n",
            "Training completed. Do not forget to share your model on huggingface.co/models =)\n",
            "\n",
            "\n"
          ]
        },
        {
          "data": {
            "text/plain": [
              "TrainOutput(global_step=4450, training_loss=0.377561998608407, metrics={'train_runtime': 3437.8578, 'train_samples_per_second': 2.589, 'train_steps_per_second': 1.294, 'total_flos': 1.27024809984e+16, 'train_loss': 0.377561998608407, 'epoch': 5.0})"
            ]
          },
          "execution_count": 15,
          "metadata": {},
          "output_type": "execute_result"
        }
      ],
      "source": [
        "from transformers import Trainer, TrainingArguments\n",
        "\n",
        "training_args = TrainingArguments(\n",
        "    output_dir='./results',\n",
        "    eval_strategy = \"epoch\",\n",
        "    learning_rate=2e-5,\n",
        "    per_device_train_batch_size=2,\n",
        "    per_device_eval_batch_size=2,\n",
        "    num_train_epochs=5,\n",
        "    weight_decay=0.01,\n",
        "    logging_dir='./logs',\n",
        "    logging_steps=10,  \n",
        "    log_level='info',  \n",
        "    fp16=True,\n",
        ")\n",
        "\n",
        "# Define the Trainer\n",
        "trainer = Trainer(\n",
        "    model=model,\n",
        "    args=training_args,\n",
        "    train_dataset=train_data_encoded,\n",
        "    eval_dataset=test_data_encoded,\n",
        ")\n",
        "\n",
        "# Start training\n",
        "trainer.train()\n"
      ]
    },
    {
      "cell_type": "code",
      "execution_count": 16,
      "metadata": {
        "colab": {
          "base_uri": "https://localhost:8080/",
          "height": 49,
          "referenced_widgets": [
            "1f962c3972484a7999305325a6365d89",
            "9046ef1bccb44146b301ecb90fa46c77",
            "da56b0cbb1f740cdb631711df110ea93",
            "344c2f8ad9374fc985760a6d699416a9",
            "708160629a234daf83a1b56e2961d71e",
            "4e2c6cd4efdd49e2805f74a57a11f1db",
            "f21eb739d89d4b7fbd542d944a538168",
            "178d4d2ca67241b7b714a150b63ec2aa",
            "361b02e8faf148d597a0e00170269371",
            "22aa6db396034487b89936211a6f2b93",
            "bdab63e054b24cacb5bd8c350545c2ce"
          ]
        },
        "id": "AIZu-IO67bQQ",
        "outputId": "6afe4f2a-a817-41c6-9af6-26ca5b2d440a"
      },
      "outputs": [
        {
          "data": {
            "application/vnd.jupyter.widget-view+json": {
              "model_id": "1f962c3972484a7999305325a6365d89",
              "version_major": 2,
              "version_minor": 0
            },
            "text/plain": [
              "Downloading builder script:   0%|          | 0.00/6.27k [00:00<?, ?B/s]"
            ]
          },
          "metadata": {},
          "output_type": "display_data"
        }
      ],
      "source": [
        "import evaluate\n",
        "\n",
        "# Load the Rouge metric from the evaluate library\n",
        "rouge = evaluate.load(\"rouge\")\n",
        "\n",
        "def evaluate_model(batch):\n",
        "    predictions, labels = batch\n",
        "    decoded_preds = tokenizer.batch_decode(predictions, skip_special_tokens=True)\n",
        "    decoded_labels = tokenizer.batch_decode(labels, skip_special_tokens=True)\n",
        "\n",
        "    # Rouge metric expects a list of strings\n",
        "    result = rouge.compute(predictions=decoded_preds, references=decoded_labels)\n",
        "    return result\n"
      ]
    },
    {
      "cell_type": "code",
      "execution_count": 17,
      "metadata": {
        "colab": {
          "base_uri": "https://localhost:8080/"
        },
        "id": "UqGXnpR6KRKm",
        "outputId": "ddd6f6ca-3b8d-4301-e4a7-d9717cf4e4c4"
      },
      "outputs": [
        {
          "name": "stdout",
          "output_type": "stream",
          "text": [
            "ROUGE Score:  {'rouge1': 0.5892091669488412, 'rouge2': 0.5562139665741004, 'rougeL': 0.3318300036742722, 'rougeLsum': 0.3318300036742722}\n",
            "ROUGE Score:  {'rouge1': 0.6620702251038766, 'rouge2': 0.6290511398644485, 'rougeL': 0.3149551770847602, 'rougeLsum': 0.3149551770847602}\n",
            "ROUGE Score:  {'rouge1': 0.644520759036675, 'rouge2': 0.6140345645139645, 'rougeL': 0.3899969180645445, 'rougeLsum': 0.3899969180645445}\n",
            "ROUGE Score:  {'rouge1': 0.6220474303625289, 'rouge2': 0.5775295742508857, 'rougeL': 0.3826482938080312, 'rougeLsum': 0.3826482938080312}\n",
            "ROUGE Score:  {'rouge1': 0.6506296135475467, 'rouge2': 0.609777636482453, 'rougeL': 0.4239687364307425, 'rougeLsum': 0.4239687364307425}\n",
            "ROUGE Score:  {'rouge1': 0.4867928083710207, 'rouge2': 0.4376780265928102, 'rougeL': 0.27216901658242443, 'rougeLsum': 0.27216901658242443}\n",
            "ROUGE Score:  {'rouge1': 0.6255625617445817, 'rouge2': 0.580957669998766, 'rougeL': 0.338872559183325, 'rougeLsum': 0.338872559183325}\n",
            "ROUGE Score:  {'rouge1': 0.5733982157339822, 'rouge2': 0.5279411764705882, 'rougeL': 0.3323302172706706, 'rougeLsum': 0.3323302172706706}\n",
            "ROUGE Score:  {'rouge1': 0.6586190572800432, 'rouge2': 0.615525589007467, 'rougeL': 0.29789680124433626, 'rougeLsum': 0.29789680124433626}\n",
            "ROUGE Score:  {'rouge1': 0.6136292223095051, 'rouge2': 0.5818565849252106, 'rougeL': 0.4335166273893689, 'rougeLsum': 0.4335166273893689}\n",
            "ROUGE Score:  {'rouge1': 0.6469457013574661, 'rouge2': 0.5998924560568397, 'rougeL': 0.3973981900452489, 'rougeLsum': 0.3973981900452489}\n",
            "ROUGE Score:  {'rouge1': 0.664106019766397, 'rouge2': 0.6225957176555978, 'rougeL': 0.43222147349505835, 'rougeLsum': 0.43222147349505835}\n",
            "ROUGE Score:  {'rouge1': 0.6326522714960143, 'rouge2': 0.5843253968253967, 'rougeL': 0.3984211748316694, 'rougeLsum': 0.3984211748316694}\n",
            "ROUGE Score:  {'rouge1': 0.6414796268145102, 'rouge2': 0.6174162679425838, 'rougeL': 0.36266356672330025, 'rougeLsum': 0.36266356672330025}\n",
            "ROUGE Score:  {'rouge1': 0.6054650588816022, 'rouge2': 0.5785064453570614, 'rougeL': 0.39210916014385444, 'rougeLsum': 0.39210916014385444}\n",
            "ROUGE Score:  {'rouge1': 0.6442452692513498, 'rouge2': 0.5923522881460466, 'rougeL': 0.37179549545167095, 'rougeLsum': 0.37179549545167095}\n",
            "ROUGE Score:  {'rouge1': 0.5733749645188759, 'rouge2': 0.5245814241664505, 'rougeL': 0.35451319897814365, 'rougeLsum': 0.35451319897814365}\n",
            "ROUGE Score:  {'rouge1': 0.5671296296296295, 'rouge2': 0.5332349878514405, 'rougeL': 0.35324074074074074, 'rougeLsum': 0.35324074074074074}\n",
            "ROUGE Score:  {'rouge1': 0.6312138574990716, 'rouge2': 0.5956874040972353, 'rougeL': 0.407077298530426, 'rougeLsum': 0.407077298530426}\n",
            "ROUGE Score:  {'rouge1': 0.6121545834607933, 'rouge2': 0.5781453325114718, 'rougeL': 0.38032017946364843, 'rougeLsum': 0.38032017946364843}\n",
            "ROUGE Score:  {'rouge1': 0.6107375848755159, 'rouge2': 0.5706163062239822, 'rougeL': 0.3438623352416456, 'rougeLsum': 0.3438623352416456}\n",
            "ROUGE Score:  {'rouge1': 0.7053167139374036, 'rouge2': 0.6680556607823825, 'rougeL': 0.3835398318156939, 'rougeLsum': 0.3835398318156939}\n",
            "ROUGE Score:  {'rouge1': 0.6175964610469402, 'rouge2': 0.5755502380418256, 'rougeL': 0.33223150651265665, 'rougeLsum': 0.33223150651265665}\n",
            "ROUGE Score:  {'rouge1': 0.5705200469146767, 'rouge2': 0.5298510036559287, 'rougeL': 0.33146585590817473, 'rougeLsum': 0.33146585590817473}\n",
            "ROUGE Score:  {'rouge1': 0.6615916102771513, 'rouge2': 0.6207470293073407, 'rougeL': 0.3772134505198206, 'rougeLsum': 0.3772134505198206}\n",
            "ROUGE Score:  {'rouge1': 0.5775694893341953, 'rouge2': 0.5414772727272728, 'rougeL': 0.34639273769708556, 'rougeLsum': 0.34639273769708556}\n",
            "ROUGE Score:  {'rouge1': 0.6722560975609757, 'rouge2': 0.6325358851674641, 'rougeL': 0.41681184668989546, 'rougeLsum': 0.41681184668989546}\n",
            "ROUGE Score:  {'rouge1': 0.6185481185481185, 'rouge2': 0.5762761377613775, 'rougeL': 0.36083613356340627, 'rougeLsum': 0.36083613356340627}\n",
            "ROUGE Score:  {'rouge1': 0.551994301994302, 'rouge2': 0.5138263519352344, 'rougeL': 0.4089877136752137, 'rougeLsum': 0.4089877136752137}\n",
            "ROUGE Score:  {'rouge1': 0.6710752318790794, 'rouge2': 0.6312476376006746, 'rougeL': 0.3592551242413833, 'rougeLsum': 0.3592551242413833}\n",
            "ROUGE Score:  {'rouge1': 0.5840203562340966, 'rouge2': 0.5453075361554254, 'rougeL': 0.34887192536047495, 'rougeLsum': 0.34887192536047495}\n",
            "ROUGE Score:  {'rouge1': 0.5745417530407388, 'rouge2': 0.5419718309859155, 'rougeL': 0.31070889894419307, 'rougeLsum': 0.31070889894419307}\n",
            "ROUGE Score:  {'rouge1': 0.6767182209206553, 'rouge2': 0.6384804173255838, 'rougeL': 0.3480979835880541, 'rougeLsum': 0.3480979835880541}\n",
            "ROUGE Score:  {'rouge1': 0.593320292273172, 'rouge2': 0.552046783625731, 'rougeL': 0.37031816351188085, 'rougeLsum': 0.37031816351188085}\n",
            "ROUGE Score:  {'rouge1': 0.6894042444953165, 'rouge2': 0.6498681478987824, 'rougeL': 0.46367627705340453, 'rougeLsum': 0.46367627705340453}\n",
            "ROUGE Score:  {'rouge1': 0.5792748917748918, 'rouge2': 0.5384615384615384, 'rougeL': 0.5257034632034632, 'rougeLsum': 0.5257034632034632}\n",
            "ROUGE Score:  {'rouge1': 0.5718907993512059, 'rouge2': 0.5288467756674305, 'rougeL': 0.34202114443485954, 'rougeLsum': 0.34202114443485954}\n",
            "ROUGE Score:  {'rouge1': 0.6180426716141002, 'rouge2': 0.5852430044182622, 'rougeL': 0.44312384044526903, 'rougeLsum': 0.44312384044526903}\n",
            "ROUGE Score:  {'rouge1': 0.6114409783764623, 'rouge2': 0.5683656957928802, 'rougeL': 0.363922367954626, 'rougeLsum': 0.363922367954626}\n",
            "ROUGE Score:  {'rouge1': 0.6208510303602328, 'rouge2': 0.5761584094917429, 'rougeL': 0.29270882491741385, 'rougeLsum': 0.29270882491741385}\n",
            "ROUGE Score:  {'rouge1': 0.6408481143580482, 'rouge2': 0.601238249898504, 'rougeL': 0.3806866422760462, 'rougeLsum': 0.3806866422760462}\n",
            "ROUGE Score:  {'rouge1': 0.6424626063153778, 'rouge2': 0.6027393861194511, 'rougeL': 0.3469058558998924, 'rougeLsum': 0.3469058558998924}\n",
            "ROUGE Score:  {'rouge1': 0.6124901904093181, 'rouge2': 0.5693636746734092, 'rougeL': 0.3537648176448721, 'rougeLsum': 0.3537648176448721}\n",
            "ROUGE Score:  {'rouge1': 0.5953595694906865, 'rouge2': 0.5424858784455381, 'rougeL': 0.3054923471220867, 'rougeLsum': 0.3054923471220867}\n",
            "ROUGE Score:  {'rouge1': 0.49753187988482106, 'rouge2': 0.46249194068343, 'rougeL': 0.323323735088441, 'rougeLsum': 0.323323735088441}\n",
            "ROUGE Score:  {'rouge1': 0.5630672854889229, 'rouge2': 0.5200568724797799, 'rougeL': 0.3483161480600837, 'rougeLsum': 0.3483161480600837}\n",
            "ROUGE Score:  {'rouge1': 0.6567507181615065, 'rouge2': 0.625196129707113, 'rougeL': 0.46495371848068945, 'rougeLsum': 0.46495371848068945}\n",
            "ROUGE Score:  {'rouge1': 0.5294983375847098, 'rouge2': 0.4466633819303427, 'rougeL': 0.28521509704720016, 'rougeLsum': 0.28521509704720016}\n",
            "ROUGE Score:  {'rouge1': 0.5970339143974782, 'rouge2': 0.5580208735987631, 'rougeL': 0.36196878204397853, 'rougeLsum': 0.36196878204397853}\n",
            "ROUGE Score:  {'rouge1': 0.6460392687880839, 'rouge2': 0.6081062339643576, 'rougeL': 0.5155382532159785, 'rougeLsum': 0.5155382532159785}\n",
            "ROUGE Score:  {'rouge1': 0.5930648299069352, 'rouge2': 0.5646606914212549, 'rougeL': 0.3979441611020559, 'rougeLsum': 0.3979441611020559}\n",
            "ROUGE Score:  {'rouge1': 0.6500745201812818, 'rouge2': 0.6157767890248425, 'rougeL': 0.3887520150865347, 'rougeLsum': 0.3887520150865347}\n",
            "ROUGE Score:  {'rouge1': 0.6856623376623376, 'rouge2': 0.6355418511490618, 'rougeL': 0.41254545454545455, 'rougeLsum': 0.41254545454545455}\n",
            "ROUGE Score:  {'rouge1': 0.5765605362379556, 'rouge2': 0.5382428940568476, 'rougeL': 0.41945957268537915, 'rougeLsum': 0.41945957268537915}\n",
            "ROUGE Score:  {'rouge1': 0.6103823088455772, 'rouge2': 0.574761399787911, 'rougeL': 0.3915125770448109, 'rougeLsum': 0.3915125770448109}\n",
            "ROUGE Score:  {'rouge1': 0.5927921589946117, 'rouge2': 0.5580688668974146, 'rougeL': 0.4184800857010377, 'rougeLsum': 0.4184800857010377}\n",
            "ROUGE Score:  {'rouge1': 0.6033724340175952, 'rouge2': 0.5726512640379953, 'rougeL': 0.4297491039426523, 'rougeLsum': 0.4297491039426523}\n",
            "ROUGE Score:  {'rouge1': 0.657856604648467, 'rouge2': 0.6192601915399893, 'rougeL': 0.42763577348866866, 'rougeLsum': 0.42763577348866866}\n",
            "ROUGE Score:  {'rouge1': 0.5944628990034538, 'rouge2': 0.5618729096989966, 'rougeL': 0.34638229535605075, 'rougeLsum': 0.34638229535605075}\n",
            "ROUGE Score:  {'rouge1': 0.6431229235880398, 'rouge2': 0.6094442936012309, 'rougeL': 0.4023477297895902, 'rougeLsum': 0.4023477297895902}\n",
            "ROUGE Score:  {'rouge1': 0.6670151272906162, 'rouge2': 0.6406014723105237, 'rougeL': 0.4329315787316034, 'rougeLsum': 0.4329315787316034}\n",
            "ROUGE Score:  {'rouge1': 0.6124644030668127, 'rouge2': 0.5637005271151612, 'rougeL': 0.3284556407447974, 'rougeLsum': 0.3284556407447974}\n",
            "ROUGE Score:  {'rouge1': 0.6379300359087223, 'rouge2': 0.6009503788376472, 'rougeL': 0.31299953666164715, 'rougeLsum': 0.31299953666164715}\n",
            "ROUGE Score:  {'rouge1': 0.665841730590996, 'rouge2': 0.6417445482866043, 'rougeL': 0.4049713080002367, 'rougeLsum': 0.4049713080002367}\n",
            "ROUGE Score:  {'rouge1': 0.6758141804951637, 'rouge2': 0.6398046398046399, 'rougeL': 0.39961398526932296, 'rougeLsum': 0.39961398526932296}\n",
            "ROUGE Score:  {'rouge1': 0.5695329873980726, 'rouge2': 0.5340425531914894, 'rougeL': 0.2830985915492958, 'rougeLsum': 0.2830985915492958}\n",
            "ROUGE Score:  {'rouge1': 0.6285099459402719, 'rouge2': 0.5876198779424586, 'rougeL': 0.4764603999370178, 'rougeLsum': 0.4764603999370178}\n",
            "ROUGE Score:  {'rouge1': 0.6475682278744721, 'rouge2': 0.6075232863625508, 'rougeL': 0.35857748906270714, 'rougeLsum': 0.35857748906270714}\n",
            "ROUGE Score:  {'rouge1': 0.687431969361016, 'rouge2': 0.6462167689161554, 'rougeL': 0.3639739971779883, 'rougeLsum': 0.3639739971779883}\n",
            "ROUGE Score:  {'rouge1': 0.6513547782463684, 'rouge2': 0.6094300278035217, 'rougeL': 0.28133355384657793, 'rougeLsum': 0.28133355384657793}\n",
            "ROUGE Score:  {'rouge1': 0.6128207138517023, 'rouge2': 0.5724365844944623, 'rougeL': 0.32526117720849096, 'rougeLsum': 0.32526117720849096}\n",
            "ROUGE Score:  {'rouge1': 0.5973564642709623, 'rouge2': 0.5543910918526729, 'rougeL': 0.39702602230483275, 'rougeLsum': 0.39702602230483275}\n",
            "ROUGE Score:  {'rouge1': 0.5846352703158368, 'rouge2': 0.5460408046796975, 'rougeL': 0.3632123187591323, 'rougeLsum': 0.3632123187591323}\n",
            "ROUGE Score:  {'rouge1': 0.6022229764126931, 'rouge2': 0.5633420852622124, 'rougeL': 0.4028678092652299, 'rougeLsum': 0.4028678092652299}\n",
            "ROUGE Score:  {'rouge1': 0.6169313304721029, 'rouge2': 0.5663780663780664, 'rougeL': 0.39680257510729616, 'rougeLsum': 0.39680257510729616}\n",
            "ROUGE Score:  {'rouge1': 0.6132465143827983, 'rouge2': 0.5759740769835036, 'rougeL': 0.32752332187697275, 'rougeLsum': 0.32752332187697275}\n",
            "ROUGE Score:  {'rouge1': 0.6318956611570248, 'rouge2': 0.5883290649662887, 'rougeL': 0.35554407713498626, 'rougeLsum': 0.35554407713498626}\n",
            "ROUGE Score:  {'rouge1': 0.5553897335447564, 'rouge2': 0.5053203159280386, 'rougeL': 0.2550601622982931, 'rougeLsum': 0.2550601622982931}\n",
            "ROUGE Score:  {'rouge1': 0.6669547957484954, 'rouge2': 0.623047891723061, 'rougeL': 0.37988218721987455, 'rougeLsum': 0.37988218721987455}\n",
            "ROUGE Score:  {'rouge1': 0.6512606816550054, 'rouge2': 0.6182880990152781, 'rougeL': 0.3926484873227936, 'rougeLsum': 0.3926484873227936}\n",
            "ROUGE Score:  {'rouge1': 0.5332219212816227, 'rouge2': 0.4992213354097722, 'rougeL': 0.3462513686394284, 'rougeLsum': 0.3462513686394284}\n",
            "ROUGE Score:  {'rouge1': 0.6483571807101218, 'rouge2': 0.6095049664863119, 'rougeL': 0.3548489666136725, 'rougeLsum': 0.3548489666136725}\n",
            "ROUGE Score:  {'rouge1': 0.5987493382081173, 'rouge2': 0.5667932169071122, 'rougeL': 0.41087036870548516, 'rougeLsum': 0.41087036870548516}\n",
            "ROUGE Score:  {'rouge1': 0.6449357475227234, 'rouge2': 0.6081353168942327, 'rougeL': 0.3371426734495423, 'rougeLsum': 0.3371426734495423}\n",
            "ROUGE Score:  {'rouge1': 0.5908156435264869, 'rouge2': 0.5536882771942533, 'rougeL': 0.34076783323771276, 'rougeLsum': 0.34076783323771276}\n",
            "ROUGE Score:  {'rouge1': 0.6468456223807906, 'rouge2': 0.6084368530020704, 'rougeL': 0.313710499490316, 'rougeLsum': 0.313710499490316}\n",
            "ROUGE Score:  {'rouge1': 0.5614090210864404, 'rouge2': 0.5220035778175313, 'rougeL': 0.40106130428711073, 'rougeLsum': 0.40106130428711073}\n",
            "ROUGE Score:  {'rouge1': 0.5916383082158483, 'rouge2': 0.5510823843233816, 'rougeL': 0.38495584184086856, 'rougeLsum': 0.38495584184086856}\n",
            "ROUGE Score:  {'rouge1': 0.6309948856508734, 'rouge2': 0.5799054501983372, 'rougeL': 0.3442696773778507, 'rougeLsum': 0.3442696773778507}\n",
            "ROUGE Score:  {'rouge1': 0.5670399515738499, 'rouge2': 0.5247048759623609, 'rougeL': 0.36082526230831313, 'rougeLsum': 0.36082526230831313}\n",
            "ROUGE Score:  {'rouge1': 0.6166466886424933, 'rouge2': 0.5726820856157435, 'rougeL': 0.41277095195285185, 'rougeLsum': 0.41277095195285185}\n",
            "ROUGE Score:  {'rouge1': 0.5530651340996169, 'rouge2': 0.5024170368434806, 'rougeL': 0.34942528735632183, 'rougeLsum': 0.34942528735632183}\n",
            "ROUGE Score:  {'rouge1': 0.5806535947712419, 'rouge2': 0.5429803012440972, 'rougeL': 0.334640522875817, 'rougeLsum': 0.334640522875817}\n",
            "ROUGE Score:  {'rouge1': 0.6031561083107475, 'rouge2': 0.5661924900679225, 'rougeL': 0.3614917635536192, 'rougeLsum': 0.3614917635536192}\n",
            "ROUGE Score:  {'rouge1': 0.6003893860078908, 'rouge2': 0.5592315761867297, 'rougeL': 0.3877356301090797, 'rougeLsum': 0.3877356301090797}\n",
            "ROUGE Score:  {'rouge1': 0.6423442136498516, 'rouge2': 0.6113492937994591, 'rougeL': 0.4214144411473788, 'rougeLsum': 0.4214144411473788}\n",
            "ROUGE Score:  {'rouge1': 0.5928835302236837, 'rouge2': 0.5627763496143958, 'rougeL': 0.3990480250071043, 'rougeLsum': 0.3990480250071043}\n",
            "ROUGE Score:  {'rouge1': 0.5661781403392318, 'rouge2': 0.5235190097259063, 'rougeL': 0.33498698621761835, 'rougeLsum': 0.33498698621761835}\n",
            "ROUGE Score:  {'rouge1': 0.5899766899766901, 'rouge2': 0.5396762015391317, 'rougeL': 0.4470862470862471, 'rougeLsum': 0.4470862470862471}\n",
            "ROUGE Score:  {'rouge1': 0.6562344553142099, 'rouge2': 0.6218820861678004, 'rougeL': 0.33456309069806, 'rougeLsum': 0.33456309069806}\n",
            "ROUGE Score:  {'rouge1': 0.6364036544850498, 'rouge2': 0.5924606309137661, 'rougeL': 0.4300581395348837, 'rougeLsum': 0.4300581395348837}\n",
            "ROUGE Score:  {'rouge1': 0.5646196705426356, 'rouge2': 0.514635191818989, 'rougeL': 0.3219476744186046, 'rougeLsum': 0.3219476744186046}\n",
            "ROUGE Score:  {'rouge1': 0.6373072322473601, 'rouge2': 0.5959180475574881, 'rougeL': 0.41453909375040193, 'rougeLsum': 0.41453909375040193}\n",
            "ROUGE Score:  {'rouge1': 0.44619514472455646, 'rouge2': 0.3993017936679908, 'rougeL': 0.24959150326797386, 'rougeLsum': 0.24959150326797386}\n",
            "ROUGE Score:  {'rouge1': 0.5712345379577978, 'rouge2': 0.5289405684754522, 'rougeL': 0.29747756487994176, 'rougeLsum': 0.29747756487994176}\n",
            "ROUGE Score:  {'rouge1': 0.6324725535251852, 'rouge2': 0.6020131129374826, 'rougeL': 0.35064923222817956, 'rougeLsum': 0.35064923222817956}\n",
            "ROUGE Score:  {'rouge1': 0.6037230189772562, 'rouge2': 0.5646650136253162, 'rougeL': 0.3750181080689555, 'rougeLsum': 0.3750181080689555}\n",
            "ROUGE Score:  {'rouge1': 0.6241720430107527, 'rouge2': 0.5854009728002247, 'rougeL': 0.3339354838709677, 'rougeLsum': 0.3339354838709677}\n",
            "ROUGE Score:  {'rouge1': 0.6227340488968396, 'rouge2': 0.5767119851502533, 'rougeL': 0.25575432319618363, 'rougeLsum': 0.25575432319618363}\n",
            "ROUGE Score:  {'rouge1': 0.6327527022256274, 'rouge2': 0.5888817065287654, 'rougeL': 0.35546191345366596, 'rougeLsum': 0.35546191345366596}\n",
            "ROUGE Score:  {'rouge1': 0.5400666836201294, 'rouge2': 0.49411933448078027, 'rougeL': 0.3961176570314487, 'rougeLsum': 0.3961176570314487}\n",
            "ROUGE Score:  {'rouge1': 0.6847971237801747, 'rouge2': 0.6491390128276631, 'rougeL': 0.5051361068310221, 'rougeLsum': 0.5051361068310221}\n",
            "ROUGE Score:  {'rouge1': 0.6604268151241012, 'rouge2': 0.613708258460617, 'rougeL': 0.2913894688007423, 'rougeLsum': 0.2913894688007423}\n",
            "ROUGE Score:  {'rouge1': 0.543926182513139, 'rouge2': 0.49773933754516275, 'rougeL': 0.2711916706481924, 'rougeLsum': 0.2711916706481924}\n",
            "ROUGE Score:  {'rouge1': 0.5913624070317782, 'rouge2': 0.5424962534789124, 'rougeL': 0.3549695740365111, 'rougeLsum': 0.3549695740365111}\n",
            "ROUGE Score:  {'rouge1': 0.6379916317991632, 'rouge2': 0.5968753563690272, 'rougeL': 0.34423988842398884, 'rougeLsum': 0.34423988842398884}\n",
            "ROUGE Score:  {'rouge1': 0.6295066659749962, 'rouge2': 0.58131021194605, 'rougeL': 0.3999671456485276, 'rougeLsum': 0.3999671456485276}\n",
            "ROUGE Score:  {'rouge1': 0.6205067064083458, 'rouge2': 0.5797700649185797, 'rougeL': 0.29776453055141583, 'rougeLsum': 0.29776453055141583}\n",
            "ROUGE Score:  {'rouge1': 0.5899875952507532, 'rouge2': 0.5497493435187395, 'rougeL': 0.35445684919369136, 'rougeLsum': 0.35445684919369136}\n",
            "ROUGE Score:  {'rouge1': 0.6433356500250975, 'rouge2': 0.6066282139016521, 'rougeL': 0.3897061662612456, 'rougeLsum': 0.3897061662612456}\n",
            "ROUGE Score:  {'rouge1': 0.6790131142098274, 'rouge2': 0.6482984569858381, 'rougeL': 0.4424593293492696, 'rougeLsum': 0.4424593293492696}\n",
            "ROUGE Score:  {'rouge1': 0.6320968924367695, 'rouge2': 0.5940914089558988, 'rougeL': 0.3366594713476968, 'rougeLsum': 0.3366594713476968}\n",
            "ROUGE Score:  {'rouge1': 0.5910220781225877, 'rouge2': 0.5442772165930274, 'rougeL': 0.31892851628840513, 'rougeLsum': 0.31892851628840513}\n",
            "ROUGE Score:  {'rouge1': 0.6112255265398029, 'rouge2': 0.5651344756990213, 'rougeL': 0.3498640744707142, 'rougeLsum': 0.3498640744707142}\n",
            "ROUGE Score:  {'rouge1': 0.6235034598908945, 'rouge2': 0.5772208298524087, 'rougeL': 0.28467213414857395, 'rougeLsum': 0.28467213414857395}\n",
            "ROUGE Score:  {'rouge1': 0.6122980910425844, 'rouge2': 0.578562091503268, 'rougeL': 0.37382525697503677, 'rougeLsum': 0.37382525697503677}\n",
            "ROUGE Score:  {'rouge1': 0.6413316720222091, 'rouge2': 0.5957159312422471, 'rougeL': 0.41581961658688005, 'rougeLsum': 0.41581961658688005}\n",
            "ROUGE Score:  {'rouge1': 0.5975490196078431, 'rouge2': 0.5557659722914382, 'rougeL': 0.30171568627450984, 'rougeLsum': 0.30171568627450984}\n",
            "ROUGE Score:  {'rouge1': 0.5296131848284167, 'rouge2': 0.49494252873563216, 'rougeL': 0.3989689945815774, 'rougeLsum': 0.3989689945815774}\n",
            "ROUGE Score:  {'rouge1': 0.5927304667893591, 'rouge2': 0.5541235303206957, 'rougeL': 0.3249539902961352, 'rougeLsum': 0.3249539902961352}\n",
            "ROUGE Score:  {'rouge1': 0.6183643064377009, 'rouge2': 0.5795019157088123, 'rougeL': 0.42292009723202384, 'rougeLsum': 0.42292009723202384}\n",
            "ROUGE Score:  {'rouge1': 0.6363745210727969, 'rouge2': 0.5937710937710938, 'rougeL': 0.4531848659003832, 'rougeLsum': 0.4531848659003832}\n",
            "ROUGE Score:  {'rouge1': 0.6597412935323383, 'rouge2': 0.6285852856777183, 'rougeL': 0.5239402985074627, 'rougeLsum': 0.5239402985074627}\n",
            "ROUGE Score:  {'rouge1': 0.6124386252045826, 'rouge2': 0.576564904040813, 'rougeL': 0.40072740498272413, 'rougeLsum': 0.40072740498272413}\n",
            "ROUGE Score:  {'rouge1': 0.5755693581780539, 'rouge2': 0.5363339200402313, 'rougeL': 0.29853100660554077, 'rougeLsum': 0.29853100660554077}\n",
            "ROUGE Score:  {'rouge1': 0.6351686233698657, 'rouge2': 0.592408557625949, 'rougeL': 0.3054603401736642, 'rougeLsum': 0.3054603401736642}\n",
            "ROUGE Score:  {'rouge1': 0.5884665792922674, 'rouge2': 0.550718629076838, 'rougeL': 0.36575224838432685, 'rougeLsum': 0.36575224838432685}\n",
            "ROUGE Score:  {'rouge1': 0.6333333333333333, 'rouge2': 0.5963914977755809, 'rougeL': 0.35077319587628863, 'rougeLsum': 0.35077319587628863}\n",
            "ROUGE Score:  {'rouge1': 0.5793650793650793, 'rouge2': 0.5403225806451613, 'rougeL': 0.5317460317460317, 'rougeLsum': 0.5317460317460317}\n",
            "ROUGE Score:  {'rouge1': 0.6033116178067319, 'rouge2': 0.5606144096983056, 'rougeL': 0.3921824104234527, 'rougeLsum': 0.3921824104234527}\n",
            "ROUGE Score:  {'rouge1': 0.6009086879432624, 'rouge2': 0.5493336345154733, 'rougeL': 0.3449468085106383, 'rougeLsum': 0.3449468085106383}\n",
            "ROUGE Score:  {'rouge1': 0.6941995313554947, 'rouge2': 0.6563902360493429, 'rougeL': 0.3996783033480281, 'rougeLsum': 0.3996783033480281}\n",
            "ROUGE Score:  {'rouge1': 0.615415548793297, 'rouge2': 0.5662063313807024, 'rougeL': 0.32064509546188424, 'rougeLsum': 0.32064509546188424}\n",
            "ROUGE Score:  {'rouge1': 0.6041157885748443, 'rouge2': 0.5632650935041934, 'rougeL': 0.3465459824097003, 'rougeLsum': 0.3465459824097003}\n",
            "ROUGE Score:  {'rouge1': 0.606298773690078, 'rouge2': 0.5778903974887485, 'rougeL': 0.46114827201783726, 'rougeLsum': 0.46114827201783726}\n",
            "ROUGE Score:  {'rouge1': 0.6404654961208656, 'rouge2': 0.5974448315911731, 'rougeL': 0.41220906492445897, 'rougeLsum': 0.41220906492445897}\n",
            "ROUGE Score:  {'rouge1': 0.601793893129771, 'rouge2': 0.5688811188811188, 'rougeL': 0.4643893129770993, 'rougeLsum': 0.4643893129770993}\n",
            "ROUGE Score:  {'rouge1': 0.6512096774193549, 'rouge2': 0.609009009009009, 'rougeL': 0.3318932411674347, 'rougeLsum': 0.3318932411674347}\n",
            "ROUGE Score:  {'rouge1': 0.6894920021931393, 'rouge2': 0.6549552695266878, 'rougeL': 0.3824286633769577, 'rougeLsum': 0.3824286633769577}\n",
            "ROUGE Score:  {'rouge1': 0.5504981884057971, 'rouge2': 0.5182376100046318, 'rougeL': 0.46959918478260876, 'rougeLsum': 0.46959918478260876}\n",
            "ROUGE Score:  {'rouge1': 0.6363374056111486, 'rouge2': 0.5921571545501898, 'rougeL': 0.3558290871140033, 'rougeLsum': 0.3558290871140033}\n",
            "ROUGE Score:  {'rouge1': 0.635068459356112, 'rouge2': 0.584966499162479, 'rougeL': 0.38916985321327247, 'rougeLsum': 0.38916985321327247}\n",
            "ROUGE Score:  {'rouge1': 0.672231884057971, 'rouge2': 0.6392480955515847, 'rougeL': 0.4587826086956521, 'rougeLsum': 0.4587826086956521}\n",
            "ROUGE Score:  {'rouge1': 0.561086927051168, 'rouge2': 0.51611174894757, 'rougeL': 0.3231408817725828, 'rougeLsum': 0.3231408817725828}\n",
            "ROUGE Score:  {'rouge1': 0.6378515863709184, 'rouge2': 0.6008771929824561, 'rougeL': 0.3503724379407733, 'rougeLsum': 0.3503724379407733}\n",
            "ROUGE Score:  {'rouge1': 0.6378561698263141, 'rouge2': 0.5973868651034006, 'rougeL': 0.3734107163128618, 'rougeLsum': 0.3734107163128618}\n",
            "ROUGE Score:  {'rouge1': 0.6147772925764192, 'rouge2': 0.5743290811297909, 'rougeL': 0.32170480349344976, 'rougeLsum': 0.32170480349344976}\n",
            "ROUGE Score:  {'rouge1': 0.6319548872180452, 'rouge2': 0.5954525954525953, 'rougeL': 0.4479323308270676, 'rougeLsum': 0.4479323308270676}\n",
            "ROUGE Score:  {'rouge1': 0.6521378165213781, 'rouge2': 0.6155848955183767, 'rougeL': 0.4243669572436696, 'rougeLsum': 0.4243669572436696}\n",
            "ROUGE Score:  {'rouge1': 0.5950725487828022, 'rouge2': 0.5518641565153193, 'rougeL': 0.4035644657614603, 'rougeLsum': 0.4035644657614603}\n",
            "ROUGE Score:  {'rouge1': 0.6252241911184446, 'rouge2': 0.5930025445292622, 'rougeL': 0.3812504483822369, 'rougeLsum': 0.3812504483822369}\n",
            "ROUGE Score:  {'rouge1': 0.6888052562228119, 'rouge2': 0.6533999561531716, 'rougeL': 0.4128716088157254, 'rougeLsum': 0.4128716088157254}\n",
            "ROUGE Score:  {'rouge1': 0.670310116929334, 'rouge2': 0.6347670250896058, 'rougeL': 0.51927965273161, 'rougeLsum': 0.51927965273161}\n",
            "ROUGE Score:  {'rouge1': 0.6734536238006156, 'rouge2': 0.6222365575692661, 'rougeL': 0.36974634401464407, 'rougeLsum': 0.36974634401464407}\n",
            "ROUGE Score:  {'rouge1': 0.7187786474860729, 'rouge2': 0.6860182938211685, 'rougeL': 0.3250264438332981, 'rougeLsum': 0.3250264438332981}\n",
            "ROUGE Score:  {'rouge1': 0.6242399965665727, 'rouge2': 0.5913428716682403, 'rougeL': 0.39684696928513186, 'rougeLsum': 0.39684696928513186}\n",
            "ROUGE Score:  {'rouge1': 0.6077235772357723, 'rouge2': 0.5711479895837931, 'rougeL': 0.5315040650406504, 'rougeLsum': 0.5315040650406504}\n",
            "ROUGE Score:  {'rouge1': 0.6244931285035027, 'rouge2': 0.5905261187043624, 'rougeL': 0.4148764640095508, 'rougeLsum': 0.4148764640095508}\n",
            "ROUGE Score:  {'rouge1': 0.6080378250591016, 'rouge2': 0.556881129948922, 'rougeL': 0.3311229314420804, 'rougeLsum': 0.3311229314420804}\n",
            "ROUGE Score:  {'rouge1': 0.6520058948747338, 'rouge2': 0.6191974691974692, 'rougeL': 0.43587686261666936, 'rougeLsum': 0.43587686261666936}\n",
            "ROUGE Score:  {'rouge1': 0.5855900449880325, 'rouge2': 0.5482646008961798, 'rougeL': 0.35784909585333147, 'rougeLsum': 0.35784909585333147}\n",
            "ROUGE Score:  {'rouge1': 0.6510057471264368, 'rouge2': 0.6106442577030813, 'rougeL': 0.38017241379310346, 'rougeLsum': 0.38017241379310346}\n",
            "ROUGE Score:  {'rouge1': 0.6298204237007613, 'rouge2': 0.6013706094391817, 'rougeL': 0.48696623634558095, 'rougeLsum': 0.48696623634558095}\n",
            "ROUGE Score:  {'rouge1': 0.6696932515337423, 'rouge2': 0.637273354664659, 'rougeL': 0.46358895705521475, 'rougeLsum': 0.46358895705521475}\n",
            "ROUGE Score:  {'rouge1': 0.5911693872089911, 'rouge2': 0.5540217391304347, 'rougeL': 0.38854696280438855, 'rougeLsum': 0.38854696280438855}\n",
            "ROUGE Score:  {'rouge1': 0.60801246627721, 'rouge2': 0.5712174510334491, 'rougeL': 0.36933405641402317, 'rougeLsum': 0.36933405641402317}\n",
            "ROUGE Score:  {'rouge1': 0.6959119496855346, 'rouge2': 0.6652483778321455, 'rougeL': 0.4179245283018868, 'rougeLsum': 0.4179245283018868}\n",
            "ROUGE Score:  {'rouge1': 0.6460502882670772, 'rouge2': 0.6081743758092306, 'rougeL': 0.28918268988901974, 'rougeLsum': 0.28918268988901974}\n",
            "ROUGE Score:  {'rouge1': 0.5885509163045533, 'rouge2': 0.555509708181464, 'rougeL': 0.2761760816172303, 'rougeLsum': 0.2761760816172303}\n",
            "ROUGE Score:  {'rouge1': 0.6107320638344333, 'rouge2': 0.5711383484127306, 'rougeL': 0.3357457674704648, 'rougeLsum': 0.3357457674704648}\n",
            "ROUGE Score:  {'rouge1': 0.6384257602862253, 'rouge2': 0.590361007326896, 'rougeL': 0.35335718545020867, 'rougeLsum': 0.35335718545020867}\n",
            "ROUGE Score:  {'rouge1': 0.6686384976525821, 'rouge2': 0.6251566160047939, 'rougeL': 0.39656606304493625, 'rougeLsum': 0.39656606304493625}\n",
            "ROUGE Score:  {'rouge1': 0.6084663361110905, 'rouge2': 0.5668315347721822, 'rougeL': 0.3360999397863531, 'rougeLsum': 0.3360999397863531}\n",
            "ROUGE Score:  {'rouge1': 0.6459669175727163, 'rouge2': 0.5841110426832157, 'rougeL': 0.5109887556918502, 'rougeLsum': 0.5109887556918502}\n",
            "ROUGE Score:  {'rouge1': 0.6069796962491865, 'rouge2': 0.5757790875639064, 'rougeL': 0.3419419690321084, 'rougeLsum': 0.3419419690321084}\n",
            "ROUGE Score:  {'rouge1': 0.6400247831474597, 'rouge2': 0.6105714033383379, 'rougeL': 0.4179764777495163, 'rougeLsum': 0.4179764777495163}\n",
            "ROUGE Score:  {'rouge1': 0.6094766393536164, 'rouge2': 0.5620865198740017, 'rougeL': 0.35392083019499543, 'rougeLsum': 0.35392083019499543}\n",
            "ROUGE Score:  {'rouge1': 0.6705144423360743, 'rouge2': 0.6397581792318634, 'rougeL': 0.4605207674467636, 'rougeLsum': 0.4605207674467636}\n",
            "ROUGE Score:  {'rouge1': 0.5970296528691428, 'rouge2': 0.5618833617438916, 'rougeL': 0.3203623115069325, 'rougeLsum': 0.3203623115069325}\n",
            "ROUGE Score:  {'rouge1': 0.6262730184392472, 'rouge2': 0.5851838087274304, 'rougeL': 0.28633805490743636, 'rougeLsum': 0.28633805490743636}\n",
            "ROUGE Score:  {'rouge1': 0.48777777777777775, 'rouge2': 0.46101200989049806, 'rougeL': 0.35869281045751633, 'rougeLsum': 0.35869281045751633}\n",
            "ROUGE Score:  {'rouge1': 0.6342996826485977, 'rouge2': 0.5923012668801337, 'rougeL': 0.3646882236898533, 'rougeLsum': 0.3646882236898533}\n",
            "ROUGE Score:  {'rouge1': 0.616957413296086, 'rouge2': 0.5753199323916456, 'rougeL': 0.36815358554488986, 'rougeLsum': 0.36815358554488986}\n",
            "ROUGE Score:  {'rouge1': 0.594894875991439, 'rouge2': 0.5560815963396034, 'rougeL': 0.3831885517646565, 'rougeLsum': 0.3831885517646565}\n",
            "ROUGE Score:  {'rouge1': 0.6548802346423335, 'rouge2': 0.6264372304514965, 'rougeL': 0.4024767801857585, 'rougeLsum': 0.4024767801857585}\n",
            "ROUGE Score:  {'rouge1': 0.5917248392238772, 'rouge2': 0.546464730752114, 'rougeL': 0.2994283515637883, 'rougeLsum': 0.2994283515637883}\n",
            "ROUGE Score:  {'rouge1': 0.693194706994329, 'rouge2': 0.6566297147042178, 'rougeL': 0.3822306238185255, 'rougeLsum': 0.3822306238185255}\n",
            "ROUGE Score:  {'rouge1': 0.6182892978307803, 'rouge2': 0.5813197800366605, 'rougeL': 0.3125732497172818, 'rougeLsum': 0.3125732497172818}\n",
            "ROUGE Score:  {'rouge1': 0.6136177753544166, 'rouge2': 0.5756160313643812, 'rougeL': 0.37368229734641945, 'rougeLsum': 0.37368229734641945}\n",
            "ROUGE Score:  {'rouge1': 0.5987551867219917, 'rouge2': 0.5569304727143238, 'rougeL': 0.32306180388731165, 'rougeLsum': 0.32306180388731165}\n",
            "ROUGE Score:  {'rouge1': 0.6016622014807133, 'rouge2': 0.5609599063506, 'rougeL': 0.4117333563794544, 'rougeLsum': 0.4117333563794544}\n",
            "ROUGE Score:  {'rouge1': 0.6103104499199339, 'rouge2': 0.569357634329534, 'rougeL': 0.48650928939166965, 'rougeLsum': 0.48650928939166965}\n",
            "ROUGE Score:  {'rouge1': 0.5917337655547422, 'rouge2': 0.5454958567228013, 'rougeL': 0.46794938826728016, 'rougeLsum': 0.46794938826728016}\n",
            "ROUGE Score:  {'rouge1': 0.5913496932515339, 'rouge2': 0.5533954933954934, 'rougeL': 0.39104294478527607, 'rougeLsum': 0.39104294478527607}\n",
            "ROUGE Score:  {'rouge1': 0.5182545228666822, 'rouge2': 0.4867866778158182, 'rougeL': 0.3683671092476124, 'rougeLsum': 0.3683671092476124}\n",
            "ROUGE Score:  {'rouge1': 0.6260449462599067, 'rouge2': 0.5916758747697974, 'rougeL': 0.40368400101328117, 'rougeLsum': 0.40368400101328117}\n",
            "ROUGE Score:  {'rouge1': 0.5863714240178501, 'rouge2': 0.5514983351831299, 'rougeL': 0.4233205833134114, 'rougeLsum': 0.4233205833134114}\n",
            "ROUGE Score:  {'rouge1': 0.6163276611630959, 'rouge2': 0.5721194357941015, 'rougeL': 0.35874369257078176, 'rougeLsum': 0.35874369257078176}\n",
            "ROUGE Score:  {'rouge1': 0.6472059370928717, 'rouge2': 0.6028686105536536, 'rougeL': 0.36298390098641353, 'rougeLsum': 0.36298390098641353}\n",
            "ROUGE Score:  {'rouge1': 0.5953967885583324, 'rouge2': 0.5455503590013833, 'rougeL': 0.27362890007397633, 'rougeLsum': 0.27362890007397633}\n",
            "ROUGE Score:  {'rouge1': 0.6354545454545455, 'rouge2': 0.6041408380857922, 'rougeL': 0.4442424242424242, 'rougeLsum': 0.4442424242424242}\n",
            "ROUGE Score:  {'rouge1': 0.6327388935803818, 'rouge2': 0.5941286822491507, 'rougeL': 0.35391518884638945, 'rougeLsum': 0.35391518884638945}\n",
            "ROUGE Score:  {'rouge1': 0.6873888998617421, 'rouge2': 0.6452832090304375, 'rougeL': 0.3460892751333202, 'rougeLsum': 0.3460892751333202}\n",
            "ROUGE Score:  {'rouge1': 0.7018585441404234, 'rouge2': 0.6734695854320032, 'rougeL': 0.42947283886881205, 'rougeLsum': 0.42947283886881205}\n",
            "ROUGE Score:  {'rouge1': 0.5512137553475717, 'rouge2': 0.5103542914171657, 'rougeL': 0.2638954908292219, 'rougeLsum': 0.2638954908292219}\n",
            "ROUGE Score:  {'rouge1': 0.6597697473616885, 'rouge2': 0.6153246753246753, 'rougeL': 0.3336851081974203, 'rougeLsum': 0.3336851081974203}\n",
            "ROUGE Score:  {'rouge1': 0.5684254936153457, 'rouge2': 0.5294258046917621, 'rougeL': 0.2964335939697362, 'rougeLsum': 0.2964335939697362}\n",
            "ROUGE Score:  {'rouge1': 0.6173439453075177, 'rouge2': 0.5766612069242381, 'rougeL': 0.31203285630468613, 'rougeLsum': 0.31203285630468613}\n",
            "ROUGE Score:  {'rouge1': 0.6064060020199106, 'rouge2': 0.567446108878334, 'rougeL': 0.38940989756167943, 'rougeLsum': 0.38940989756167943}\n",
            "ROUGE Score:  {'rouge1': 0.7056393678160919, 'rouge2': 0.6596491228070176, 'rougeL': 0.5673491379310345, 'rougeLsum': 0.5673491379310345}\n",
            "ROUGE Score:  {'rouge1': 0.6089082020640957, 'rouge2': 0.5808429118773946, 'rougeL': 0.45890611289850836, 'rougeLsum': 0.45890611289850836}\n",
            "ROUGE Score:  {'rouge1': 0.6262355503434411, 'rouge2': 0.5927210300429184, 'rougeL': 0.41323504774669123, 'rougeLsum': 0.41323504774669123}\n",
            "ROUGE Score:  {'rouge1': 0.6488706365503081, 'rouge2': 0.6103092783505155, 'rougeL': 0.34907597535934287, 'rougeLsum': 0.34907597535934287}\n"
          ]
        }
      ],
      "source": [
        "import torch\n",
        "import evaluate\n",
        "\n",
        "# Load the Rouge metric from the evaluate library\n",
        "rouge = evaluate.load(\"rouge\")\n",
        "\n",
        "# Define the evaluation function\n",
        "def evaluate_model(batch):\n",
        "    predictions = batch[\"input_ids\"]\n",
        "    labels = batch[\"labels\"]\n",
        "\n",
        "    # Decode predictions and labels to text\n",
        "    decoded_preds = tokenizer.batch_decode(predictions, skip_special_tokens=True)\n",
        "    decoded_labels = tokenizer.batch_decode(labels, skip_special_tokens=True)\n",
        "\n",
        "    # Compute Rouge metric\n",
        "    result = rouge.compute(predictions=decoded_preds, references=decoded_labels)\n",
        "    return result\n",
        "\n",
        "# Evaluate the model's predictions using the test dataset\n",
        "test_dataloader = torch.utils.data.DataLoader(test_data_encoded, batch_size=2)\n",
        "\n",
        "for batch in test_dataloader:\n",
        "    results = evaluate_model(batch)\n",
        "    print(\"ROUGE Score: \", results)\n"
      ]
    },
    {
      "cell_type": "code",
      "execution_count": 18,
      "metadata": {
        "colab": {
          "base_uri": "https://localhost:8080/"
        },
        "id": "I0LyhxJRaRsI",
        "outputId": "9d36306d-842e-42d9-dbdf-1db7a4e2acc1"
      },
      "outputs": [
        {
          "name": "stdout",
          "output_type": "stream",
          "text": [
            "Average ROUGE Scores:\n",
            "rouge1: 0.6180\n",
            "rouge2: 0.5785\n",
            "rougeL: 0.3752\n",
            "rougeLsum: 0.3752\n"
          ]
        }
      ],
      "source": [
        "# Initialize storage for scores\n",
        "rouge_scores = []\n",
        "\n",
        "for batch in test_dataloader:\n",
        "    results = evaluate_model(batch)\n",
        "    rouge_scores.append(results)\n",
        "\n",
        "# Average the scores\n",
        "avg_rouge = {key: sum(d[key] for d in rouge_scores) / len(rouge_scores) for key in rouge_scores[0].keys()}\n",
        "\n",
        "print(\"Average ROUGE Scores:\")\n",
        "for key, value in avg_rouge.items():\n",
        "    print(f\"{key}: {value:.4f}\")\n"
      ]
    },
    {
      "cell_type": "code",
      "execution_count": 19,
      "metadata": {
        "colab": {
          "base_uri": "https://localhost:8080/"
        },
        "id": "H98OocyYbHyO",
        "outputId": "d9fb7802-8526-4704-c6e9-6930a05bacaf"
      },
      "outputs": [
        {
          "name": "stderr",
          "output_type": "stream",
          "text": [
            "Configuration saved in /content/config.json\n",
            "Configuration saved in /content/generation_config.json\n",
            "Model weights saved in /content/model.safetensors\n",
            "tokenizer config file saved in /content/tokenizer_config.json\n",
            "Special tokens file saved in /content/special_tokens_map.json\n",
            "added tokens file saved in /content/added_tokens.json\n"
          ]
        },
        {
          "data": {
            "text/plain": [
              "('/content/tokenizer_config.json',\n",
              " '/content/special_tokens_map.json',\n",
              " '/content/spiece.model',\n",
              " '/content/added_tokens.json')"
            ]
          },
          "execution_count": 19,
          "metadata": {},
          "output_type": "execute_result"
        }
      ],
      "source": [
        "# Save the trained model and tokenizer\n",
        "model.save_pretrained('/content')\n",
        "tokenizer.save_pretrained('/content')\n"
      ]
    },
    {
      "cell_type": "code",
      "execution_count": 1,
      "metadata": {
        "colab": {
          "base_uri": "https://localhost:8080/"
        },
        "id": "OY9v5pP5cAR-",
        "outputId": "e58eaaf0-fc2f-44d0-ef6f-618bd0d2210c"
      },
      "outputs": [
        {
          "name": "stderr",
          "output_type": "stream",
          "text": [
            "/Users/sharumathan/Desktop/EDITH_IRWA/.venv/lib/python3.12/site-packages/tqdm/auto.py:21: TqdmWarning: IProgress not found. Please update jupyter and ipywidgets. See https://ipywidgets.readthedocs.io/en/stable/user_install.html\n",
            "  from .autonotebook import tqdm as notebook_tqdm\n",
            "You set `add_prefix_space`. The tokenizer needs to be converted from the slow tokenizers\n"
          ]
        }
      ],
      "source": [
        "# Load the saved model and tokenizer\n",
        "from transformers import AutoModelForSeq2SeqLM, AutoTokenizer\n",
        "\n",
        "model = AutoModelForSeq2SeqLM.from_pretrained('/Users/sharumathan/Desktop/EDITH_IRWA/model_token_folder')\n",
        "tokenizer = AutoTokenizer.from_pretrained('/Users/sharumathan/Desktop/EDITH_IRWA/model_token_folder')\n",
        "\n",
        "def summarize_text(input_text):\n",
        "    # Tokenize the input text\n",
        "    inputs = tokenizer(input_text, return_tensors=\"pt\", max_length=512, truncation=True)\n",
        "\n",
        "    # Determine input length and adjust max_length dynamically\n",
        "    input_length = len(input_text.split())  # Count words in the input\n",
        "    max_summary_length = min(350, int(input_length * 0.7))  # Set a maximum summary length (70% of input length)\n",
        "    min_summary_length = min(100, int(input_length * 0.3))  # Set a minimum summary length (30% of input length)\n",
        "\n",
        "    # Generate the summary\n",
        "    summary_ids = model.generate(\n",
        "        inputs['input_ids'], \n",
        "        max_length=max_summary_length, \n",
        "        min_length=min_summary_length, \n",
        "        length_penalty=2.0, \n",
        "        num_beams=4, \n",
        "        early_stopping=True\n",
        "    )\n",
        "    \n",
        "    # Decode and return the summary\n",
        "    summary = tokenizer.decode(summary_ids[0], skip_special_tokens=True)\n",
        "    return summary\n",
        "\n",
        "\n",
        "\n"
      ]
    },
    {
      "cell_type": "code",
      "execution_count": 3,
      "metadata": {
        "colab": {
          "base_uri": "https://localhost:8080/"
        },
        "id": "zdiZP8h9cHyI",
        "outputId": "aeef6e7f-8e8f-4df5-d57a-d141d5f5f6b8"
      },
      "outputs": [
        {
          "name": "stdout",
          "output_type": "stream",
          "text": [
            "Summary:  the use of ink is causing both worries and guarded optimism among different sectors of the population - the upcoming parliamentary elections are a prelude to a potentially regime changing presidential election in the Autumn. the use of ink has been controversial - especially among groups perceived to be pro-government. the use of ink is sprayed on a person's left thumb and is not visible under normal light. the presence of ultraviolet light causes the ink to glow with a neon yellow light.\n"
          ]
        }
      ],
      "source": [
        "input_text = \"Ink helps drive democracy in Asia The Kyrgyz Republic, a small, mountainous state of the former Soviet republic, is using invisible ink and ultraviolet readers in the country's elections as part of a drive to prevent multiple voting. This new technology is causing both worries and guarded optimism among different sectors of the population. In an effort to live up to its reputation in the 1990s as 'an island of democracy', the Kyrgyz President, Askar Akaev, pushed through the law requiring the use of ink during the upcoming Parliamentary and Presidential elections. The US government agreed to fund all expenses associated with this decision. The Kyrgyz Republic is seen by many experts as backsliding from the high point it reached in the mid-1990s with a hastily pushed through referendum in 2003, reducing the legislative branch to one chamber with 75 deputies. The use of ink is only one part of a general effort to show commitment towards more open elections - the German Embassy, the Soros Foundation and the Kyrgyz government have all contributed to purchase transparent ballot boxes. The actual technology behind the ink is not that complicated. The ink is sprayed on a person's left thumb. It dries and is not visible under normal light. However, the presence of ultraviolet light (of the kind used to verify money) causes the ink to glow with a neon yellow light. At the entrance to each polling station, one election official will scan voter's fingers with UV lamp before allowing them to enter, and every voter will have his/her left thumb sprayed with ink before receiving the ballot. If the ink shows under the UV light the voter will not be allowed to enter the polling station. Likewise, any voter who refuses to be inked will not receive the ballot. These elections are assuming even greater significance because of two large factors - the upcoming parliamentary elections are a prelude to a potentially regime changing presidential election in the Autumn as well as the echo of recent elections in other former Soviet Republics, notably Ukraine and Georgia. The use of ink has been controversial - especially among groups perceived to be pro-government. Widely circulated articles compared the use of ink to the rural practice of marking sheep - a still common metaphor in this primarily agricultural society. The author of one such article began a petition drive against the use of the ink. The greatest part of the opposition to ink has often been sheer ignorance. Local newspapers have carried stories that the ink is harmful, radioactive or even that the ultraviolet readers may cause health problems. Others, such as the aggressively middle of the road, Coalition of Non-governmental Organizations, have lauded the move as an important step forward. This type of ink has been used in many elections in the world, in countries as varied as Serbia, South Africa, Indonesia and Turkey. The other common type of ink in elections is indelible visible ink - but as the elections in Afghanistan showed, improper use of this type of ink can cause additional problems. The use of 'invisible' ink is not without its own problems. In most elections, numerous rumors have spread about it. In Serbia, for example, both Christian and Islamic leaders assured their populations that its use was not contrary to religion. Other rumours are associated with how to remove the ink - various soft drinks, solvents and cleaning products are put forward. However, in reality, the ink is very effective at getting under the cuticle of the thumb and difficult to wash off. The ink stays on the finger for at least 72 hours and for up to a week. The use of ink and readers by itself is not a panacea for election ills. The passage of the inking law is, nevertheless, a clear step forward towards free and fair elections. The country's widely watched parliamentary elections are scheduled for 27 February. David Mikosz works for the IFES, an international, non-profit organisation that supports the building of democratic societies.\"\n",
        "\n",
        "summary = summarize_text(input_text)\n",
        "print(\"Summary: \", summary)\n"
      ]
    },
    {
      "cell_type": "code",
      "execution_count": 25,
      "metadata": {
        "colab": {
          "base_uri": "https://localhost:8080/"
        },
        "id": "xeFevIqWcPq3",
        "outputId": "250839e2-851b-4d35-902c-913b3c24a239"
      },
      "outputs": [
        {
          "name": "stderr",
          "output_type": "stream",
          "text": [
            "Configuration saved in /content/drive/MyDrive/Colab Notebooks/model_token_folder/config.json\n",
            "Configuration saved in /content/drive/MyDrive/Colab Notebooks/model_token_folder/generation_config.json\n",
            "Model weights saved in /content/drive/MyDrive/Colab Notebooks/model_token_folder/model.safetensors\n",
            "tokenizer config file saved in /content/drive/MyDrive/Colab Notebooks/model_token_folder/tokenizer_config.json\n",
            "Special tokens file saved in /content/drive/MyDrive/Colab Notebooks/model_token_folder/special_tokens_map.json\n",
            "Copy vocab file to /content/drive/MyDrive/Colab Notebooks/model_token_folder/spiece.model\n"
          ]
        },
        {
          "data": {
            "text/plain": [
              "('/content/drive/MyDrive/Colab Notebooks/model_token_folder/tokenizer_config.json',\n",
              " '/content/drive/MyDrive/Colab Notebooks/model_token_folder/special_tokens_map.json',\n",
              " '/content/drive/MyDrive/Colab Notebooks/model_token_folder/spiece.model',\n",
              " '/content/drive/MyDrive/Colab Notebooks/model_token_folder/added_tokens.json',\n",
              " '/content/drive/MyDrive/Colab Notebooks/model_token_folder/tokenizer.json')"
            ]
          },
          "execution_count": 25,
          "metadata": {},
          "output_type": "execute_result"
        }
      ],
      "source": [
        "model.save_pretrained('/content/drive/MyDrive/Colab Notebooks/model_token_folder')\n",
        "tokenizer.save_pretrained('/content/drive/MyDrive/Colab Notebooks/model_token_folder')"
      ]
    },
    {
      "cell_type": "code",
      "execution_count": 1,
      "metadata": {
        "id": "0BhELzPyeA23"
      },
      "outputs": [
        {
          "name": "stderr",
          "output_type": "stream",
          "text": [
            "/Users/sharumathan/Desktop/EDITH_IRWA/.venv/lib/python3.12/site-packages/tqdm/auto.py:21: TqdmWarning: IProgress not found. Please update jupyter and ipywidgets. See https://ipywidgets.readthedocs.io/en/stable/user_install.html\n",
            "  from .autonotebook import tqdm as notebook_tqdm\n",
            "No model was supplied, defaulted to distilbert/distilbert-base-uncased-finetuned-sst-2-english and revision af0f99b (https://huggingface.co/distilbert/distilbert-base-uncased-finetuned-sst-2-english).\n",
            "Using a pipeline without specifying a model name and revision in production is not recommended.\n",
            "/Users/sharumathan/Desktop/EDITH_IRWA/.venv/lib/python3.12/site-packages/transformers/tokenization_utils_base.py:1601: FutureWarning: `clean_up_tokenization_spaces` was not set. It will be set to `True` by default. This behavior will be depracted in transformers v4.45, and will be then set to `False` by default. For more details check this issue: https://github.com/huggingface/transformers/issues/31884\n",
            "  warnings.warn(\n",
            "Hardware accelerator e.g. GPU is available in the environment, but no `device` argument is passed to the `Pipeline` object. Model will be on CPU.\n"
          ]
        },
        {
          "name": "stdout",
          "output_type": "stream",
          "text": [
            "[{'label': 'POSITIVE', 'score': 0.9998776912689209}]\n"
          ]
        }
      ],
      "source": [
        "from transformers import pipeline\n",
        "\n",
        "# Load sentiment analysis pipeline\n",
        "sentiment_pipeline = pipeline(\"sentiment-analysis\")\n",
        "\n",
        "def analyze_sentiment(text):\n",
        "    \"\"\"Analyze sentiment of the input text.\"\"\"\n",
        "    return sentiment_pipeline(text)\n",
        "\n",
        "# Example usage\n",
        "sentiment_result = analyze_sentiment(\"The movie was fantastic!\")\n",
        "print(sentiment_result)\n"
      ]
    },
    {
      "cell_type": "code",
      "execution_count": 3,
      "metadata": {},
      "outputs": [
        {
          "name": "stderr",
          "output_type": "stream",
          "text": [
            "huggingface/tokenizers: The current process just got forked, after parallelism has already been used. Disabling parallelism to avoid deadlocks...\n",
            "To disable this warning, you can either:\n",
            "\t- Avoid using `tokenizers` before the fork if possible\n",
            "\t- Explicitly set the environment variable TOKENIZERS_PARALLELISM=(true | false)\n"
          ]
        },
        {
          "name": "stdout",
          "output_type": "stream",
          "text": [
            "Collecting rake-nltk\n",
            "  Downloading rake_nltk-1.0.6-py3-none-any.whl.metadata (6.4 kB)\n",
            "Requirement already satisfied: nltk<4.0.0,>=3.6.2 in ./.venv/lib/python3.12/site-packages (from rake-nltk) (3.9.1)\n",
            "Requirement already satisfied: click in ./.venv/lib/python3.12/site-packages (from nltk<4.0.0,>=3.6.2->rake-nltk) (8.1.7)\n",
            "Requirement already satisfied: joblib in ./.venv/lib/python3.12/site-packages (from nltk<4.0.0,>=3.6.2->rake-nltk) (1.4.2)\n",
            "Requirement already satisfied: regex>=2021.8.3 in ./.venv/lib/python3.12/site-packages (from nltk<4.0.0,>=3.6.2->rake-nltk) (2024.9.11)\n",
            "Requirement already satisfied: tqdm in ./.venv/lib/python3.12/site-packages (from nltk<4.0.0,>=3.6.2->rake-nltk) (4.66.5)\n",
            "Downloading rake_nltk-1.0.6-py3-none-any.whl (9.1 kB)\n",
            "Installing collected packages: rake-nltk\n",
            "Successfully installed rake-nltk-1.0.6\n",
            "Note: you may need to restart the kernel to use updated packages.\n"
          ]
        }
      ],
      "source": [
        "pip install rake-nltk\n"
      ]
    },
    {
      "cell_type": "code",
      "execution_count": 1,
      "metadata": {},
      "outputs": [
        {
          "name": "stderr",
          "output_type": "stream",
          "text": [
            "/Users/sharumathan/Desktop/EDITH_IRWA/.venv/lib/python3.12/site-packages/tqdm/auto.py:21: TqdmWarning: IProgress not found. Please update jupyter and ipywidgets. See https://ipywidgets.readthedocs.io/en/stable/user_install.html\n",
            "  from .autonotebook import tqdm as notebook_tqdm\n",
            "No model was supplied, defaulted to distilbert/distilbert-base-uncased-finetuned-sst-2-english and revision af0f99b (https://huggingface.co/distilbert/distilbert-base-uncased-finetuned-sst-2-english).\n",
            "Using a pipeline without specifying a model name and revision in production is not recommended.\n",
            "/Users/sharumathan/Desktop/EDITH_IRWA/.venv/lib/python3.12/site-packages/transformers/tokenization_utils_base.py:1601: FutureWarning: `clean_up_tokenization_spaces` was not set. It will be set to `True` by default. This behavior will be depracted in transformers v4.45, and will be then set to `False` by default. For more details check this issue: https://github.com/huggingface/transformers/issues/31884\n",
            "  warnings.warn(\n",
            "Hardware accelerator e.g. GPU is available in the environment, but no `device` argument is passed to the `Pipeline` object. Model will be on CPU.\n"
          ]
        },
        {
          "name": "stdout",
          "output_type": "stream",
          "text": [
            "[{'label': 'POSITIVE', 'score': 0.9997581839561462}]\n"
          ]
        }
      ],
      "source": [
        "from transformers import pipeline\n",
        "\n",
        "# Load a pre-trained sentiment-analysis model\n",
        "sentiment_pipeline = pipeline('sentiment-analysis')\n",
        "\n",
        "# Analyze sentiment of a text\n",
        "text = \"I love using this summarization system, it's very useful!\"\n",
        "sentiment = sentiment_pipeline(text)\n",
        "print(sentiment)\n"
      ]
    },
    {
      "cell_type": "code",
      "execution_count": 6,
      "metadata": {},
      "outputs": [
        {
          "name": "stdout",
          "output_type": "stream",
          "text": [
            "Keyword: Hii sharuk enna, Score: 0.01655915082773619\n",
            "Keyword: seireenga inga saapdacha, Score: 0.016559150827736194\n",
            "Keyword: sharuk enna seireenga, Score: 0.03339840940482845\n",
            "Keyword: enna seireenga inga, Score: 0.03339840940482845\n",
            "Keyword: Hii sharuk, Score: 0.04940384002065631\n",
            "Keyword: inga saapdacha, Score: 0.04940384002065631\n",
            "Keyword: sharuk enna, Score: 0.09700399286574239\n",
            "Keyword: enna seireenga, Score: 0.09700399286574239\n",
            "Keyword: seireenga inga, Score: 0.09700399286574239\n",
            "Keyword: Hii, Score: 0.15831692877998726\n",
            "Keyword: saapdacha, Score: 0.15831692877998726\n",
            "Keyword: sharuk, Score: 0.29736558256021506\n",
            "Keyword: enna, Score: 0.29736558256021506\n",
            "Keyword: seireenga, Score: 0.29736558256021506\n",
            "Keyword: inga, Score: 0.29736558256021506\n"
          ]
        }
      ],
      "source": [
        "#pip install transformers yake gensim nltk\n",
        "import yake\n",
        "\n",
        "# Initialize the keyword extractor\n",
        "kw_extractor = yake.KeywordExtractor()\n",
        "\n",
        "# Extract keywords from a text\n",
        "text = \"Hii sharuk enna seireenga inga saapdacha\"\n",
        "keywords = kw_extractor.extract_keywords(text)\n",
        "\n",
        "# Print extracted keywords\n",
        "for kw, score in keywords:\n",
        "    print(f\"Keyword: {kw}, Score: {score}\")\n"
      ]
    },
    {
      "cell_type": "code",
      "execution_count": 40,
      "metadata": {},
      "outputs": [
        {
          "name": "stdout",
          "output_type": "stream",
          "text": [
            "Keyword: Natural language, Score: 0.03348306375921797\n",
            "Keyword: subfield of artificial, Score: 0.04307080430887413\n",
            "Keyword: artificial intelligence, Score: 0.04307080430887413\n",
            "Keyword: intelligence that focuses, Score: 0.04307080430887413\n",
            "Keyword: NLP, Score: 0.057735347218260846\n",
            "Keyword: language processing, Score: 0.06279687706999357\n",
            "Keyword: human language, Score: 0.08192603037752758\n",
            "Keyword: Natural, Score: 0.08381004228908419\n",
            "Keyword: language, Score: 0.09360919412123363\n",
            "Keyword: generate human language, Score: 0.10348558939680262\n"
          ]
        }
      ],
      "source": [
        "import yake\n",
        "\n",
        "# Initialize the keyword extractor\n",
        "kw_extractor = yake.KeywordExtractor()\n",
        "\n",
        "# Example of a longer paragraph\n",
        "text = \"\"\"Natural language processing (NLP) is a subfield of artificial intelligence \n",
        "that focuses on the interaction between computers and humans through natural language. \n",
        "The ultimate objective of NLP is to enable computers to understand, interpret, \n",
        "and generate human language in a way that is both valuable and meaningful. \n",
        "NLP combines computational linguistics—rule-based modeling of human language \n",
        "with machine learning, statistical, and deep learning models. Applications \n",
        "of NLP include sentiment analysis, machine translation, and information extraction.\"\"\"\n",
        "\n",
        "# Extract keywords from the larger text\n",
        "keywords = kw_extractor.extract_keywords(text)\n",
        "\n",
        "# Print extracted keywords with filtering\n",
        "filtered_keywords = [(kw, score) for kw, score in keywords if score > 0.03]  # Example threshold\n",
        "top_keywords = sorted(filtered_keywords, key=lambda x: x[1])[:10]  # Limit to top 10 keywords\n",
        "\n",
        "for kw, score in top_keywords:\n",
        "    print(f\"Keyword: {kw}, Score: {score}\")\n"
      ]
    },
    {
      "cell_type": "code",
      "execution_count": 41,
      "metadata": {},
      "outputs": [
        {
          "name": "stdout",
          "output_type": "stream",
          "text": [
            "Requirement already satisfied: gensim in ./.venv/lib/python3.12/site-packages (4.3.3)\n",
            "Requirement already satisfied: nltk in ./.venv/lib/python3.12/site-packages (3.9.1)\n",
            "Requirement already satisfied: numpy<2.0,>=1.18.5 in ./.venv/lib/python3.12/site-packages (from gensim) (1.26.4)\n",
            "Requirement already satisfied: scipy<1.14.0,>=1.7.0 in ./.venv/lib/python3.12/site-packages (from gensim) (1.13.1)\n",
            "Requirement already satisfied: smart-open>=1.8.1 in ./.venv/lib/python3.12/site-packages (from gensim) (7.0.4)\n",
            "Requirement already satisfied: click in ./.venv/lib/python3.12/site-packages (from nltk) (8.1.7)\n",
            "Requirement already satisfied: joblib in ./.venv/lib/python3.12/site-packages (from nltk) (1.4.2)\n",
            "Requirement already satisfied: regex>=2021.8.3 in ./.venv/lib/python3.12/site-packages (from nltk) (2024.9.11)\n",
            "Requirement already satisfied: tqdm in ./.venv/lib/python3.12/site-packages (from nltk) (4.66.5)\n",
            "Requirement already satisfied: wrapt in ./.venv/lib/python3.12/site-packages (from smart-open>=1.8.1->gensim) (1.16.0)\n",
            "Note: you may need to restart the kernel to use updated packages.\n"
          ]
        }
      ],
      "source": [
        "pip install gensim nltk\n"
      ]
    },
    {
      "cell_type": "code",
      "execution_count": 74,
      "metadata": {},
      "outputs": [
        {
          "name": "stdout",
          "output_type": "stream",
          "text": [
            "Topics and Keywords:\n",
            "** Topic 1 **\n",
            "\"ai\" (Weight: 0.047), \"tasks\" (Weight: 0.016), \"diagnostic\" (Weight: 0.016), \"finance\" (Weight: 0.016), \"innovation\" (Weight: 0.016), \"plans\" (Weight: 0.016), \"data\" (Weight: 0.016), \"promise\" (Weight: 0.016), \"continues\" (Weight: 0.016), \"personalize\" (Weight: 0.016)\n",
            "\n",
            "** Topic 2 **\n",
            "\"ai\" (Weight: 0.016), \"advanced\" (Weight: 0.016), \"helps\" (Weight: 0.016), \"treatment\" (Weight: 0.016), \"reshaping\" (Weight: 0.016), \"vast\" (Weight: 0.016), \"make\" (Weight: 0.016), \"industries\" (Weight: 0.016), \"businesses\" (Weight: 0.016), \"healthcare\" (Weight: 0.016)\n",
            "\n",
            "\n",
            "Topic Distribution for the new document:\n",
            "Topic 1: Probability 0.500\n",
            "Topic 2: Probability 0.500\n"
          ]
        }
      ],
      "source": [
        "import spacy\n",
        "from nltk.corpus import stopwords\n",
        "import gensim\n",
        "from gensim import corpora\n",
        "\n",
        "# Load the spaCy English model\n",
        "nlp = spacy.load(\"en_core_web_sm\")\n",
        "\n",
        "# Ensure you have the necessary NLTK data\n",
        "#nltk.download('stopwords')\n",
        "\n",
        "# Sample documents for topic modeling\n",
        "documents = [\n",
        "    \"Artificial intelligence (AI) has emerged as a transformative force in various industries, reshaping the way businesses operate and interact with customers. By leveraging advanced algorithms and vast amounts of data, AI systems can analyze patterns, make predictions, and automate tasks that were traditionally performed by humans. For instance, in the healthcare sector, AI is being used to enhance diagnostic accuracy and personalize treatment plans, while in finance, it helps in detecting fraudulent transactions and managing risks more effectively. As AI continues to evolve, it holds the promise of driving innovation, improving efficiency, and delivering better outcomes across multiple domains.\"]\n",
        "# Preprocess the documents\n",
        "stop_words = set(stopwords.words('english'))\n",
        "dic_of_topics = dict()\n",
        "preprocessed_docs = []\n",
        "for doc in documents:\n",
        "    # Use spaCy for tokenization\n",
        "    doc_nlp = nlp(doc.lower())  # Tokenize and lower case\n",
        "    tokens = [token.text for token in doc_nlp if token.is_alpha and token.text not in stop_words]  # Remove punctuation and stopwords\n",
        "    preprocessed_docs.append(tokens)\n",
        "\n",
        "# Create a dictionary and corpus for LDA\n",
        "dictionary = corpora.Dictionary(preprocessed_docs)\n",
        "corpus = [dictionary.doc2bow(doc) for doc in preprocessed_docs]\n",
        "\n",
        "# Perform LDA\n",
        "num_topics = 2  # You can choose the number of topics you want\n",
        "lda_model = gensim.models.LdaModel(corpus, num_topics=num_topics, id2word=dictionary, passes=15)\n",
        "\n",
        "# Display the topics in a user-friendly format\n",
        "print(\"Topics and Keywords:\")\n",
        "for idx, topic in lda_model.print_topics(-1):\n",
        "    # Format topic output\n",
        "    topic_keywords = topic.split(\" + \")\n",
        "    formatted_keywords = []\n",
        "    for keyword in topic_keywords:\n",
        "        weight, word = keyword.split(\"*\")\n",
        "        formatted_keywords.append(f\"{word.strip()} (Weight: {float(weight):.3f})\")\n",
        "    \n",
        "    print(f\"** Topic {idx + 1} **\")\n",
        "    print(\", \".join(formatted_keywords))\n",
        "    print()  # Print a newline for better readability\n",
        "\n",
        "# Example to get the topic distribution for a new document\n",
        "new_doc = \"I want to build a system that understands human languages.\"\n",
        "new_doc_nlp = nlp(new_doc.lower())  # Tokenize and lower case\n",
        "new_doc_tokens = [token.text for token in new_doc_nlp if token.is_alpha and token.text not in stop_words]  # Remove punctuation and stopwords\n",
        "new_doc_bow = dictionary.doc2bow(new_doc_tokens)\n",
        "\n",
        "# Topic distribution for the new document\n",
        "topic_distribution = lda_model.get_document_topics(new_doc_bow)\n",
        "print(\"\\nTopic Distribution for the new document:\")\n",
        "for topic_id, prob in topic_distribution:\n",
        "    print(f\"Topic {topic_id + 1}: Probability {prob:.3f}\")\n"
      ]
    },
    {
      "cell_type": "code",
      "execution_count": 59,
      "metadata": {},
      "outputs": [
        {
          "name": "stdout",
          "output_type": "stream",
          "text": [
            "Gensim version: 4.3.3\n",
            "Scipy version: 1.13.1\n"
          ]
        }
      ],
      "source": [
        "import gensim\n",
        "import scipy\n",
        "\n",
        "print(\"Gensim version:\", gensim.__version__)\n",
        "print(\"Scipy version:\", scipy.__version__)\n"
      ]
    },
    {
      "cell_type": "code",
      "execution_count": 58,
      "metadata": {},
      "outputs": [
        {
          "name": "stdout",
          "output_type": "stream",
          "text": [
            "\n",
            "Coherence Score:  0.9999999999999998\n"
          ]
        }
      ],
      "source": [
        "\n",
        "from gensim.models.coherencemodel import CoherenceModel\n",
        "coherence_model_lda = CoherenceModel(model=lda_model, texts=preprocessed_docs, dictionary=dictionary , coherence='c_v')\n",
        "coherence_lda = coherence_model_lda.get_coherence()\n",
        "print('\\nCoherence Score: ', coherence_lda)"
      ]
    },
    {
      "cell_type": "code",
      "execution_count": 91,
      "metadata": {},
      "outputs": [],
      "source": [
        "import spacy\n",
        "from nltk.corpus import stopwords\n",
        "import gensim\n",
        "from gensim import corpora\n",
        "\n",
        "def get_topic(text):\n",
        "\n",
        "    # Load the spaCy English model\n",
        "    nlp = spacy.load(\"en_core_web_sm\")\n",
        "\n",
        "    # Ensure you have the necessary NLTK data\n",
        "    #nltk.download('stopwords')\n",
        "\n",
        "    # Sample documents for topic modeling\n",
        "    documents = [text]# Preprocess the documents\n",
        "    stop_words = set(stopwords.words('english'))\n",
        "    dic_of_topics = dict()\n",
        "    preprocessed_docs = []\n",
        "    for doc in documents:\n",
        "        # Use spaCy for tokenization\n",
        "        doc_nlp = nlp(doc.lower())  # Tokenize and lower case\n",
        "        tokens = [token.text for token in doc_nlp if token.is_alpha and token.text not in stop_words]  # Remove punctuation and stopwords\n",
        "        preprocessed_docs.append(tokens)\n",
        "\n",
        "    # Create a dictionary and corpus for LDA\n",
        "    dictionary = corpora.Dictionary(preprocessed_docs)\n",
        "    corpus = [dictionary.doc2bow(doc) for doc in preprocessed_docs]\n",
        "\n",
        "    # Perform LDA\n",
        "    num_topics = 2  # You can choose the number of topics you want\n",
        "    lda_model = gensim.models.LdaModel(corpus, num_topics=num_topics, id2word=dictionary, passes=15)\n",
        "\n",
        "    # Display the topics in a user-friendly format\n",
        "    print(\"Topics and Keywords:\")\n",
        "    for idx, topic in lda_model.print_topics(-1):\n",
        "        # Format topic output\n",
        "        topic_keywords = topic.split(\" + \")\n",
        "        formatted_keywords = []\n",
        "        for keyword in topic_keywords:\n",
        "            weight, word = keyword.split(\"*\")\n",
        "            formatted_keywords.append(f\"{word.strip()} (Weight: {float(weight):.3f})\")\n",
        "        \n",
        "        dic_of_topics[f\"Topic {idx + 1}\"] = \", \".join(formatted_keywords)\n",
        "    \n",
        "\n",
        "    print(dic_of_topics)"
      ]
    },
    {
      "cell_type": "code",
      "execution_count": 92,
      "metadata": {},
      "outputs": [
        {
          "name": "stdout",
          "output_type": "stream",
          "text": [
            "Topics and Keywords:\n",
            "{'Topic 1': '\"ai\" (Weight: 0.047), \"fraudulent\" (Weight: 0.016), \"force\" (Weight: 0.016), \"used\" (Weight: 0.016), \"leveraging\" (Weight: 0.016), \"advanced\" (Weight: 0.016), \"emerged\" (Weight: 0.016), \"data\" (Weight: 0.016), \"make\" (Weight: 0.016), \"improving\" (Weight: 0.016)', 'Topic 2': '\"ai\" (Weight: 0.016), \"systems\" (Weight: 0.016), \"amounts\" (Weight: 0.016), \"transactions\" (Weight: 0.016), \"traditionally\" (Weight: 0.016), \"predictions\" (Weight: 0.016), \"driving\" (Weight: 0.016), \"helps\" (Weight: 0.016), \"industries\" (Weight: 0.016), \"innovation\" (Weight: 0.016)'}\n"
          ]
        }
      ],
      "source": [
        "get_topic(\"Artificial intelligence (AI) has emerged as a transformative force in various industries, reshaping the way businesses operate and interact with customers. By leveraging advanced algorithms and vast amounts of data, AI systems can analyze patterns, make predictions, and automate tasks that were traditionally performed by humans. For instance, in the healthcare sector, AI is being used to enhance diagnostic accuracy and personalize treatment plans, while in finance, it helps in detecting fraudulent transactions and managing risks more effectively. As AI continues to evolve, it holds the promise of driving innovation, improving efficiency, and delivering better outcomes across multiple domains.\")"
      ]
    },
    {
      "cell_type": "code",
      "execution_count": 96,
      "metadata": {},
      "outputs": [
        {
          "name": "stdout",
          "output_type": "stream",
          "text": [
            "Topic 1 discusses the following keywords and their weights: \"ai\" (Weight: 0.047), \"fraudulent\" (Weight: 0.016), \"force\" (Weight: 0.016), \"used\" (Weight: 0.016), \"leveraging\" (Weight: 0.016), \"advanced\" (Weight: 0.016), \"emerged\" (Weight: 0.016), \"data\" (Weight: 0.016), \"make\" (Weight: 0.016), \"improving\" (Weight: 0.016). Topic 2 discusses the following keywords and their weights: \"ai\" (Weight: 0.016), \"systems\" (Weight: 0.016), \"amounts\" (Weight: 0.016), \"transactions\" (Weight: 0.016), \"traditionally\" (Weight: 0.016), \"predictions\" (Weight: 0.016), \"driving\" (Weight: 0.016), \"helps\" (Weight: 0.016), \"industries\" (Weight: 0.016), \"innovation\" (Weight: 0.016).\n"
          ]
        }
      ],
      "source": [
        "topics = {\n",
        "    'Topic 1': '\"ai\" (Weight: 0.047), \"fraudulent\" (Weight: 0.016), \"force\" (Weight: 0.016), \"used\" (Weight: 0.016), \"leveraging\" (Weight: 0.016), \"advanced\" (Weight: 0.016), \"emerged\" (Weight: 0.016), \"data\" (Weight: 0.016), \"make\" (Weight: 0.016), \"improving\" (Weight: 0.016)',\n",
        "    'Topic 2': '\"ai\" (Weight: 0.016), \"systems\" (Weight: 0.016), \"amounts\" (Weight: 0.016), \"transactions\" (Weight: 0.016), \"traditionally\" (Weight: 0.016), \"predictions\" (Weight: 0.016), \"driving\" (Weight: 0.016), \"helps\" (Weight: 0.016), \"industries\" (Weight: 0.016), \"innovation\" (Weight: 0.016)'\n",
        "}\n",
        "\n",
        "sentences = []\n",
        "for topic, keywords in topics.items():\n",
        "    sentences.append(f'{topic} discusses the following keywords and their weights: {keywords}.<br>')\n",
        "\n",
        "formatted_text = ' '.join(sentences)\n",
        "print(formatted_text)\n"
      ]
    },
    {
      "cell_type": "code",
      "execution_count": null,
      "metadata": {},
      "outputs": [],
      "source": [
        "def summarize():\n",
        "    # Get the text from the form\n",
        "    text = request.form['text']\n",
        "\n",
        "    # First summarization method (SpaCy)\n",
        "    doc = nlp(text)\n",
        "    tokens = [token.text.lower() for token in doc if not token.is_stop and not token.is_punct and token.text != '\\n']\n",
        "    word_freq = Counter(tokens)\n",
        "    max_freq = max(word_freq.values())\n",
        "    \n",
        "    for word in word_freq.keys():\n",
        "        word_freq[word] = word_freq[word] / max_freq\n",
        "\n",
        "    sent_token = [sent.text for sent in doc.sents]\n",
        "    sent_scores = {}\n",
        "    \n",
        "    for sent in sent_token:\n",
        "        for word in sent.split():\n",
        "            if word.lower() in word_freq:\n",
        "                if sent not in sent_scores:\n",
        "                    sent_scores[sent] = word_freq[word.lower()]\n",
        "                else:\n",
        "                    sent_scores[sent] += word_freq[word.lower()]\n",
        "\n",
        "    num_sentence = 3\n",
        "    spacy_summary = \" \".join(nlargest(num_sentence, sent_scores, key=sent_scores.get))"
      ]
    },
    {
      "cell_type": "markdown",
      "metadata": {},
      "source": []
    }
  ],
  "metadata": {
    "accelerator": "GPU",
    "colab": {
      "gpuType": "T4",
      "provenance": []
    },
    "kernelspec": {
      "display_name": "base",
      "language": "python",
      "name": "python3"
    },
    "language_info": {
      "codemirror_mode": {
        "name": "ipython",
        "version": 3
      },
      "file_extension": ".py",
      "mimetype": "text/x-python",
      "name": "python",
      "nbconvert_exporter": "python",
      "pygments_lexer": "ipython3",
      "version": "3.12.4"
    },
    "widgets": {
      "application/vnd.jupyter.widget-state+json": {
        "178d4d2ca67241b7b714a150b63ec2aa": {
          "model_module": "@jupyter-widgets/base",
          "model_module_version": "1.2.0",
          "model_name": "LayoutModel",
          "state": {
            "_model_module": "@jupyter-widgets/base",
            "_model_module_version": "1.2.0",
            "_model_name": "LayoutModel",
            "_view_count": null,
            "_view_module": "@jupyter-widgets/base",
            "_view_module_version": "1.2.0",
            "_view_name": "LayoutView",
            "align_content": null,
            "align_items": null,
            "align_self": null,
            "border": null,
            "bottom": null,
            "display": null,
            "flex": null,
            "flex_flow": null,
            "grid_area": null,
            "grid_auto_columns": null,
            "grid_auto_flow": null,
            "grid_auto_rows": null,
            "grid_column": null,
            "grid_gap": null,
            "grid_row": null,
            "grid_template_areas": null,
            "grid_template_columns": null,
            "grid_template_rows": null,
            "height": null,
            "justify_content": null,
            "justify_items": null,
            "left": null,
            "margin": null,
            "max_height": null,
            "max_width": null,
            "min_height": null,
            "min_width": null,
            "object_fit": null,
            "object_position": null,
            "order": null,
            "overflow": null,
            "overflow_x": null,
            "overflow_y": null,
            "padding": null,
            "right": null,
            "top": null,
            "visibility": null,
            "width": null
          }
        },
        "1f962c3972484a7999305325a6365d89": {
          "model_module": "@jupyter-widgets/controls",
          "model_module_version": "1.5.0",
          "model_name": "HBoxModel",
          "state": {
            "_dom_classes": [],
            "_model_module": "@jupyter-widgets/controls",
            "_model_module_version": "1.5.0",
            "_model_name": "HBoxModel",
            "_view_count": null,
            "_view_module": "@jupyter-widgets/controls",
            "_view_module_version": "1.5.0",
            "_view_name": "HBoxView",
            "box_style": "",
            "children": [
              "IPY_MODEL_9046ef1bccb44146b301ecb90fa46c77",
              "IPY_MODEL_da56b0cbb1f740cdb631711df110ea93",
              "IPY_MODEL_344c2f8ad9374fc985760a6d699416a9"
            ],
            "layout": "IPY_MODEL_708160629a234daf83a1b56e2961d71e"
          }
        },
        "22aa6db396034487b89936211a6f2b93": {
          "model_module": "@jupyter-widgets/base",
          "model_module_version": "1.2.0",
          "model_name": "LayoutModel",
          "state": {
            "_model_module": "@jupyter-widgets/base",
            "_model_module_version": "1.2.0",
            "_model_name": "LayoutModel",
            "_view_count": null,
            "_view_module": "@jupyter-widgets/base",
            "_view_module_version": "1.2.0",
            "_view_name": "LayoutView",
            "align_content": null,
            "align_items": null,
            "align_self": null,
            "border": null,
            "bottom": null,
            "display": null,
            "flex": null,
            "flex_flow": null,
            "grid_area": null,
            "grid_auto_columns": null,
            "grid_auto_flow": null,
            "grid_auto_rows": null,
            "grid_column": null,
            "grid_gap": null,
            "grid_row": null,
            "grid_template_areas": null,
            "grid_template_columns": null,
            "grid_template_rows": null,
            "height": null,
            "justify_content": null,
            "justify_items": null,
            "left": null,
            "margin": null,
            "max_height": null,
            "max_width": null,
            "min_height": null,
            "min_width": null,
            "object_fit": null,
            "object_position": null,
            "order": null,
            "overflow": null,
            "overflow_x": null,
            "overflow_y": null,
            "padding": null,
            "right": null,
            "top": null,
            "visibility": null,
            "width": null
          }
        },
        "344c2f8ad9374fc985760a6d699416a9": {
          "model_module": "@jupyter-widgets/controls",
          "model_module_version": "1.5.0",
          "model_name": "HTMLModel",
          "state": {
            "_dom_classes": [],
            "_model_module": "@jupyter-widgets/controls",
            "_model_module_version": "1.5.0",
            "_model_name": "HTMLModel",
            "_view_count": null,
            "_view_module": "@jupyter-widgets/controls",
            "_view_module_version": "1.5.0",
            "_view_name": "HTMLView",
            "description": "",
            "description_tooltip": null,
            "layout": "IPY_MODEL_22aa6db396034487b89936211a6f2b93",
            "placeholder": "​",
            "style": "IPY_MODEL_bdab63e054b24cacb5bd8c350545c2ce",
            "value": " 6.27k/6.27k [00:00&lt;00:00, 344kB/s]"
          }
        },
        "361b02e8faf148d597a0e00170269371": {
          "model_module": "@jupyter-widgets/controls",
          "model_module_version": "1.5.0",
          "model_name": "ProgressStyleModel",
          "state": {
            "_model_module": "@jupyter-widgets/controls",
            "_model_module_version": "1.5.0",
            "_model_name": "ProgressStyleModel",
            "_view_count": null,
            "_view_module": "@jupyter-widgets/base",
            "_view_module_version": "1.2.0",
            "_view_name": "StyleView",
            "bar_color": null,
            "description_width": ""
          }
        },
        "4e2c6cd4efdd49e2805f74a57a11f1db": {
          "model_module": "@jupyter-widgets/base",
          "model_module_version": "1.2.0",
          "model_name": "LayoutModel",
          "state": {
            "_model_module": "@jupyter-widgets/base",
            "_model_module_version": "1.2.0",
            "_model_name": "LayoutModel",
            "_view_count": null,
            "_view_module": "@jupyter-widgets/base",
            "_view_module_version": "1.2.0",
            "_view_name": "LayoutView",
            "align_content": null,
            "align_items": null,
            "align_self": null,
            "border": null,
            "bottom": null,
            "display": null,
            "flex": null,
            "flex_flow": null,
            "grid_area": null,
            "grid_auto_columns": null,
            "grid_auto_flow": null,
            "grid_auto_rows": null,
            "grid_column": null,
            "grid_gap": null,
            "grid_row": null,
            "grid_template_areas": null,
            "grid_template_columns": null,
            "grid_template_rows": null,
            "height": null,
            "justify_content": null,
            "justify_items": null,
            "left": null,
            "margin": null,
            "max_height": null,
            "max_width": null,
            "min_height": null,
            "min_width": null,
            "object_fit": null,
            "object_position": null,
            "order": null,
            "overflow": null,
            "overflow_x": null,
            "overflow_y": null,
            "padding": null,
            "right": null,
            "top": null,
            "visibility": null,
            "width": null
          }
        },
        "708160629a234daf83a1b56e2961d71e": {
          "model_module": "@jupyter-widgets/base",
          "model_module_version": "1.2.0",
          "model_name": "LayoutModel",
          "state": {
            "_model_module": "@jupyter-widgets/base",
            "_model_module_version": "1.2.0",
            "_model_name": "LayoutModel",
            "_view_count": null,
            "_view_module": "@jupyter-widgets/base",
            "_view_module_version": "1.2.0",
            "_view_name": "LayoutView",
            "align_content": null,
            "align_items": null,
            "align_self": null,
            "border": null,
            "bottom": null,
            "display": null,
            "flex": null,
            "flex_flow": null,
            "grid_area": null,
            "grid_auto_columns": null,
            "grid_auto_flow": null,
            "grid_auto_rows": null,
            "grid_column": null,
            "grid_gap": null,
            "grid_row": null,
            "grid_template_areas": null,
            "grid_template_columns": null,
            "grid_template_rows": null,
            "height": null,
            "justify_content": null,
            "justify_items": null,
            "left": null,
            "margin": null,
            "max_height": null,
            "max_width": null,
            "min_height": null,
            "min_width": null,
            "object_fit": null,
            "object_position": null,
            "order": null,
            "overflow": null,
            "overflow_x": null,
            "overflow_y": null,
            "padding": null,
            "right": null,
            "top": null,
            "visibility": null,
            "width": null
          }
        },
        "9046ef1bccb44146b301ecb90fa46c77": {
          "model_module": "@jupyter-widgets/controls",
          "model_module_version": "1.5.0",
          "model_name": "HTMLModel",
          "state": {
            "_dom_classes": [],
            "_model_module": "@jupyter-widgets/controls",
            "_model_module_version": "1.5.0",
            "_model_name": "HTMLModel",
            "_view_count": null,
            "_view_module": "@jupyter-widgets/controls",
            "_view_module_version": "1.5.0",
            "_view_name": "HTMLView",
            "description": "",
            "description_tooltip": null,
            "layout": "IPY_MODEL_4e2c6cd4efdd49e2805f74a57a11f1db",
            "placeholder": "​",
            "style": "IPY_MODEL_f21eb739d89d4b7fbd542d944a538168",
            "value": "Downloading builder script: 100%"
          }
        },
        "bdab63e054b24cacb5bd8c350545c2ce": {
          "model_module": "@jupyter-widgets/controls",
          "model_module_version": "1.5.0",
          "model_name": "DescriptionStyleModel",
          "state": {
            "_model_module": "@jupyter-widgets/controls",
            "_model_module_version": "1.5.0",
            "_model_name": "DescriptionStyleModel",
            "_view_count": null,
            "_view_module": "@jupyter-widgets/base",
            "_view_module_version": "1.2.0",
            "_view_name": "StyleView",
            "description_width": ""
          }
        },
        "da56b0cbb1f740cdb631711df110ea93": {
          "model_module": "@jupyter-widgets/controls",
          "model_module_version": "1.5.0",
          "model_name": "FloatProgressModel",
          "state": {
            "_dom_classes": [],
            "_model_module": "@jupyter-widgets/controls",
            "_model_module_version": "1.5.0",
            "_model_name": "FloatProgressModel",
            "_view_count": null,
            "_view_module": "@jupyter-widgets/controls",
            "_view_module_version": "1.5.0",
            "_view_name": "ProgressView",
            "bar_style": "success",
            "description": "",
            "description_tooltip": null,
            "layout": "IPY_MODEL_178d4d2ca67241b7b714a150b63ec2aa",
            "max": 6270,
            "min": 0,
            "orientation": "horizontal",
            "style": "IPY_MODEL_361b02e8faf148d597a0e00170269371",
            "value": 6270
          }
        },
        "f21eb739d89d4b7fbd542d944a538168": {
          "model_module": "@jupyter-widgets/controls",
          "model_module_version": "1.5.0",
          "model_name": "DescriptionStyleModel",
          "state": {
            "_model_module": "@jupyter-widgets/controls",
            "_model_module_version": "1.5.0",
            "_model_name": "DescriptionStyleModel",
            "_view_count": null,
            "_view_module": "@jupyter-widgets/base",
            "_view_module_version": "1.2.0",
            "_view_name": "StyleView",
            "description_width": ""
          }
        }
      }
    }
  },
  "nbformat": 4,
  "nbformat_minor": 0
}
